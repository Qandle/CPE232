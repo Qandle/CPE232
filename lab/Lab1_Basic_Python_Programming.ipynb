{
 "cells": [
  {
   "cell_type": "markdown",
   "id": "64e93d7b-1c77-47d7-b3e0-f77cca1258b7",
   "metadata": {},
   "source": [
    "# Lab 1: Basic Python Programming"
   ]
  },
  {
   "cell_type": "markdown",
   "id": "ccb5a923-50cb-4347-8241-904c8d3bd6f5",
   "metadata": {},
   "source": [
    "## 1. Basic usage"
   ]
  },
  {
   "cell_type": "markdown",
   "id": "fc437319-7d8c-42a6-90a3-c027dd394f55",
   "metadata": {},
   "source": [
    "> John Doe is a 29 years-old system engineer who earns ฿41500.00 a month."
   ]
  },
  {
   "cell_type": "markdown",
   "id": "e916ec77-882f-4770-a876-8034e505d987",
   "metadata": {},
   "source": [
    "Create and assign variables to store this person's information (name, age, position and salary)."
   ]
  },
  {
   "cell_type": "code",
   "execution_count": 8,
   "id": "c82ab750-42b1-4942-9126-e78858848259",
   "metadata": {},
   "outputs": [
    {
     "name": "stdout",
     "output_type": "stream",
     "text": [
      "{'John Doe': {'age': 29,\n",
      "              'name': 'John Doe',\n",
      "              'position': 'system engineer',\n",
      "              'salary': 41500.0}}\n"
     ]
    }
   ],
   "source": [
    "# Write your code here\n",
    "user = {\n",
    "    \"John Doe\" : {\n",
    "    \"name\" : \"John Doe\", \n",
    "    \"age\" : 29,\n",
    "    \"position\": \"system engineer\",\n",
    "    \"salary\" : 41500.00\n",
    "}}\n",
    "\n",
    "import pprint\n",
    "pprint.pprint(user)"
   ]
  },
  {
   "cell_type": "markdown",
   "id": "5276310d-91d8-462a-855f-713c14a399b3",
   "metadata": {},
   "source": [
    "What is the type of each variables?"
   ]
  },
  {
   "cell_type": "code",
   "execution_count": 9,
   "id": "51ff9507-b6ed-4fc9-bae8-32679f0ffe0f",
   "metadata": {},
   "outputs": [
    {
     "name": "stdout",
     "output_type": "stream",
     "text": [
      "Name type : <class 'str'>\n",
      "Age type : <class 'int'>\n",
      "Position type : <class 'str'>\n",
      "Salary type : <class 'float'>\n"
     ]
    }
   ],
   "source": [
    "# Write your code here\n",
    "print(\"Name type :\", type(user['John Doe']['name']))    # String\n",
    "print(\"Age type :\", type(user['John Doe']['age']))      # Integer\n",
    "print(\"Position type :\", type(user['John Doe']['position']))    # String\n",
    "print(\"Salary type :\", type(user['John Doe']['salary']))        # Float"
   ]
  },
  {
   "cell_type": "markdown",
   "id": "e9af1002-80de-4b0b-aa53-4c555f270349",
   "metadata": {},
   "source": [
    "The manager decides to give John a 7% raise. Update his salary."
   ]
  },
  {
   "cell_type": "code",
   "execution_count": 10,
   "id": "aacfb035-65b9-47b5-9980-19ea9e325051",
   "metadata": {},
   "outputs": [
    {
     "name": "stdout",
     "output_type": "stream",
     "text": [
      "Updated salary :  44405.00 ฿\n"
     ]
    }
   ],
   "source": [
    "# Write your code here\n",
    "user['John Doe']['salary'] *= 1.07\n",
    "print(\"Updated salary : \", \"{:.2f}\".format(user['John Doe']['salary']) , \"฿\")"
   ]
  },
  {
   "cell_type": "markdown",
   "id": "b38d04d0-c43b-44c5-9a37-11d7a768a124",
   "metadata": {},
   "source": [
    "Prints his information again with his new salary."
   ]
  },
  {
   "cell_type": "code",
   "execution_count": 11,
   "id": "04699250-3a2e-43e4-a84c-2a5cbcf38c36",
   "metadata": {},
   "outputs": [
    {
     "name": "stdout",
     "output_type": "stream",
     "text": [
      "{'age': 29,\n",
      " 'name': 'John Doe',\n",
      " 'position': 'system engineer',\n",
      " 'salary': 44405.0}\n"
     ]
    }
   ],
   "source": [
    "# Write your code here\n",
    "pprint.pprint(user['John Doe'])"
   ]
  },
  {
   "cell_type": "markdown",
   "id": "590d49a7-eac2-434b-b73f-af1d2f13cca6",
   "metadata": {},
   "source": [
    "Now, he decides to resign. Delete his information from the system."
   ]
  },
  {
   "cell_type": "code",
   "execution_count": 115,
   "id": "f7f06b90-67cf-4e04-be79-deb29cfabdb1",
   "metadata": {},
   "outputs": [
    {
     "ename": "KeyError",
     "evalue": "'John Doe'",
     "output_type": "error",
     "traceback": [
      "\u001b[1;31m---------------------------------------------------------------------------\u001b[0m",
      "\u001b[1;31mKeyError\u001b[0m                                  Traceback (most recent call last)",
      "Cell \u001b[1;32mIn[115], line 3\u001b[0m\n\u001b[0;32m      1\u001b[0m \u001b[39m# Write your code here\u001b[39;00m\n\u001b[0;32m      2\u001b[0m \u001b[39mdel\u001b[39;00m(user[\u001b[39m\"\u001b[39m\u001b[39mJohn Doe\u001b[39m\u001b[39m\"\u001b[39m])\n\u001b[1;32m----> 3\u001b[0m \u001b[39mprint\u001b[39m(user[\u001b[39m\"\u001b[39;49m\u001b[39mJohn Doe\u001b[39;49m\u001b[39m\"\u001b[39;49m])\n",
      "\u001b[1;31mKeyError\u001b[0m: 'John Doe'"
     ]
    }
   ],
   "source": [
    "# Write your code here\n",
    "del(user[\"John Doe\"])\n",
    "print(user[\"John Doe\"])"
   ]
  },
  {
   "cell_type": "markdown",
   "id": "077aee58-d6d1-4262-bef9-4e9a9a82a800",
   "metadata": {},
   "source": [
    "## 2. Variable and Expression"
   ]
  },
  {
   "cell_type": "markdown",
   "id": "af79a9e3-db50-456c-841e-eef66ef246a9",
   "metadata": {},
   "source": [
    "**2.1** Write a code to convert temperature unit from celcius to other units"
   ]
  },
  {
   "cell_type": "code",
   "execution_count": 116,
   "id": "8dfd591f-41f0-4b73-b770-fbcf60eb983a",
   "metadata": {},
   "outputs": [],
   "source": [
    "C = 34.5"
   ]
  },
  {
   "cell_type": "markdown",
   "id": "afd0633b-76ca-4ab8-b61c-7e1f8fdf724b",
   "metadata": {},
   "source": [
    "**Fahrenheit**  \n",
    "#### $\\frac{C}{5} = \\frac{F-32}{9}$"
   ]
  },
  {
   "cell_type": "code",
   "execution_count": 117,
   "id": "93e1649c-5724-4842-b121-82bdd2922a1b",
   "metadata": {},
   "outputs": [
    {
     "name": "stdout",
     "output_type": "stream",
     "text": [
      "In Fahrenheit : 94.1\n"
     ]
    }
   ],
   "source": [
    "F = ((C / 5) * 9 ) + 32\n",
    "print(\"In Fahrenheit :\", F)"
   ]
  },
  {
   "cell_type": "markdown",
   "id": "05017521-6d16-4d65-a100-e9c94e49f9d6",
   "metadata": {},
   "source": [
    "**Kelvin**  \n",
    "$K = C + 273.15$"
   ]
  },
  {
   "cell_type": "code",
   "execution_count": 118,
   "id": "0790d13f-3a85-4bb7-b341-3796e7d81816",
   "metadata": {},
   "outputs": [
    {
     "name": "stdout",
     "output_type": "stream",
     "text": [
      "In Kelvin : 307.65\n"
     ]
    }
   ],
   "source": [
    "K = C + 273.15\n",
    "print(\"In Kelvin :\", K)"
   ]
  },
  {
   "cell_type": "markdown",
   "id": "3aafb9c3-7135-4730-9f72-41919a7bf8aa",
   "metadata": {},
   "source": [
    "**Rømer**  \n",
    "#### $Ro = \\frac{C \\times 21}{40} + 7.5$"
   ]
  },
  {
   "cell_type": "code",
   "execution_count": 119,
   "id": "f77ad9dd-966e-4e6e-974e-64f1796f9d2e",
   "metadata": {},
   "outputs": [
    {
     "name": "stdout",
     "output_type": "stream",
     "text": [
      "In Romer : 25.6125\n"
     ]
    }
   ],
   "source": [
    "Ro = ((C * 21)/40) + 7.5\n",
    "print(\"In Romer :\", Ro)"
   ]
  },
  {
   "cell_type": "markdown",
   "id": "46be05e7-89f8-4461-989d-017343872b4a",
   "metadata": {
    "tags": []
   },
   "source": [
    "## 3. Multi-item variables\n",
    "#### List"
   ]
  },
  {
   "cell_type": "code",
   "execution_count": 120,
   "id": "bcf35687-0b65-4958-ac2b-e24627ef68d1",
   "metadata": {},
   "outputs": [],
   "source": [
    "names = ['Thomas', 'Kate', 'Mike', 'Amelia', 'James', 'Megan']"
   ]
  },
  {
   "cell_type": "markdown",
   "id": "448e0cac-5140-4c01-ae36-6483e68d538b",
   "metadata": {},
   "source": [
    "Create new variable call `new_name` which takes input name of the user."
   ]
  },
  {
   "cell_type": "code",
   "execution_count": 121,
   "id": "ae8b5b8e-5718-4d6b-923d-8d3c1562c845",
   "metadata": {},
   "outputs": [],
   "source": [
    "new_name = input('Enter your name: ')"
   ]
  },
  {
   "cell_type": "markdown",
   "id": "46726149-c092-45ab-ae91-a3505ff28f81",
   "metadata": {},
   "source": [
    "Insert `new_name` into `names` list."
   ]
  },
  {
   "cell_type": "code",
   "execution_count": 122,
   "id": "4f757eb7-5658-490e-b523-cb1c880db7fd",
   "metadata": {},
   "outputs": [
    {
     "name": "stdout",
     "output_type": "stream",
     "text": [
      "['Thomas', 'Kate', 'Mike', 'Amelia', 'James', 'Megan', 'Kim']\n"
     ]
    }
   ],
   "source": [
    "# Write your code here\n",
    "names.append(new_name)\n",
    "print(names)"
   ]
  },
  {
   "cell_type": "markdown",
   "id": "4600f46e-4a21-41f7-a4b1-00e5921e134b",
   "metadata": {},
   "source": [
    "Select your name from the list"
   ]
  },
  {
   "cell_type": "code",
   "execution_count": 123,
   "id": "cbae27d8-6dda-45ae-9839-6513d1086384",
   "metadata": {},
   "outputs": [
    {
     "data": {
      "text/plain": [
       "'Kim'"
      ]
     },
     "execution_count": 123,
     "metadata": {},
     "output_type": "execute_result"
    }
   ],
   "source": [
    "# Write your code here\n",
    "names[6]"
   ]
  },
  {
   "cell_type": "markdown",
   "id": "5114e655-d67e-428b-a179-1ef8cec4da28",
   "metadata": {},
   "source": [
    "Merge `another_names` into `names`."
   ]
  },
  {
   "cell_type": "code",
   "execution_count": 124,
   "id": "330ecf29-1771-427d-a16f-f515994c617c",
   "metadata": {},
   "outputs": [],
   "source": [
    "another_names = ['Peter', 'Steve', 'Sam', 'Charlotte']"
   ]
  },
  {
   "cell_type": "code",
   "execution_count": 125,
   "id": "35bd286b-2303-45a4-90ec-17a84d1a91c6",
   "metadata": {},
   "outputs": [
    {
     "name": "stdout",
     "output_type": "stream",
     "text": [
      "Updated names : ['Thomas', 'Kate', 'Mike', 'Amelia', 'James', 'Megan', 'Kim', 'Peter', 'Steve', 'Sam', 'Charlotte']\n"
     ]
    }
   ],
   "source": [
    "# Write your code here\n",
    "names += another_names\n",
    "print(\"Updated names :\", names)"
   ]
  },
  {
   "cell_type": "markdown",
   "id": "8326fcba-7997-42b4-979e-ef7dee45c1d4",
   "metadata": {},
   "source": [
    "Change `Amelia`'s name to `Amy`"
   ]
  },
  {
   "cell_type": "code",
   "execution_count": 126,
   "id": "feb53ff6-f95e-43ac-9302-d4097bdeb123",
   "metadata": {},
   "outputs": [
    {
     "name": "stdout",
     "output_type": "stream",
     "text": [
      "Updated names : ['Thomas', 'Kate', 'Mike', 'Amy', 'James', 'Megan', 'Kim', 'Peter', 'Steve', 'Sam', 'Charlotte']\n"
     ]
    }
   ],
   "source": [
    "# Write your code here\n",
    "names[3] = 'Amy'\n",
    "print(\"Updated names :\", names)"
   ]
  },
  {
   "cell_type": "markdown",
   "id": "eb232f36-b03a-4666-a8be-11f6493ddda3",
   "metadata": {},
   "source": [
    "#### Dictionary"
   ]
  },
  {
   "cell_type": "code",
   "execution_count": 127,
   "id": "c7784413-7700-438d-9bae-e264327f16eb",
   "metadata": {},
   "outputs": [],
   "source": [
    "capital_city = {'England':'London',\n",
    "                'Spain':'Madrid',\n",
    "                'Japan':'Tokyo',\n",
    "                'Australia':'Sydney',\n",
    "                'Germany':'Berlin',\n",
    "               }"
   ]
  },
  {
   "cell_type": "markdown",
   "id": "4a1424d4-8955-455d-9bda-ddc573c50307",
   "metadata": {},
   "source": [
    "Add a record `Thailand` and it's capital city to this dictionary"
   ]
  },
  {
   "cell_type": "code",
   "execution_count": 129,
   "id": "d7134edd-6732-4c37-9b69-28c02579c74f",
   "metadata": {},
   "outputs": [
    {
     "name": "stdout",
     "output_type": "stream",
     "text": [
      "{'Australia': 'Sydney',\n",
      " 'England': 'London',\n",
      " 'Germany': 'Berlin',\n",
      " 'Japan': 'Tokyo',\n",
      " 'Spain': 'Madrid',\n",
      " 'Thailand': 'Bangkok'}\n"
     ]
    }
   ],
   "source": [
    "# Write your code here\n",
    "capital_city['Thailand'] = 'Bangkok'\n",
    "pprint.pprint(capital_city)"
   ]
  },
  {
   "cell_type": "markdown",
   "id": "442728cb-9f2d-472b-8909-987996e176cb",
   "metadata": {},
   "source": [
    "You may notice that the capital city of `Australia` is wrong. It should be `Canberra`. Correct this mistake."
   ]
  },
  {
   "cell_type": "code",
   "execution_count": 130,
   "id": "e9c689e8-ad32-4ddd-9e33-8025d2b8fa00",
   "metadata": {
    "jp-MarkdownHeadingCollapsed": true,
    "tags": []
   },
   "outputs": [
    {
     "name": "stdout",
     "output_type": "stream",
     "text": [
      "{'Australia': 'Canberra',\n",
      " 'England': 'London',\n",
      " 'Germany': 'Berlin',\n",
      " 'Japan': 'Tokyo',\n",
      " 'Spain': 'Madrid',\n",
      " 'Thailand': 'Bangkok'}\n"
     ]
    }
   ],
   "source": [
    "# Write your code here\n",
    "capital_city['Australia'] = 'Canberra'\n",
    "pprint.pprint(capital_city)"
   ]
  },
  {
   "cell_type": "markdown",
   "id": "47de81e4-3a74-40ba-b383-4d9a4ba8a240",
   "metadata": {},
   "source": [
    "## 4. Control Flows and conditional statements"
   ]
  },
  {
   "cell_type": "markdown",
   "id": "26875311-407e-403d-9fdb-f8ded74f4926",
   "metadata": {},
   "source": [
    "### if...elif...else"
   ]
  },
  {
   "cell_type": "markdown",
   "id": "ef7bc755-efcd-45c5-a8e4-446724231dd1",
   "metadata": {},
   "source": [
    "**1.** Define a variable to get input age from user."
   ]
  },
  {
   "cell_type": "code",
   "execution_count": 17,
   "id": "908ab4b9-4452-4558-9dfa-33aba76e683c",
   "metadata": {},
   "outputs": [
    {
     "name": "stdout",
     "output_type": "stream",
     "text": [
      "Input your age :  19\n"
     ]
    }
   ],
   "source": [
    "age = int(input(\"Input your age : \"))\n",
    "print(\"Input your age : \", age)     # cause vscode not showing input box in notebook"
   ]
  },
  {
   "cell_type": "markdown",
   "id": "92ee554c-f82d-4ad6-80ae-6d095b6eca2d",
   "metadata": {},
   "source": [
    "Write a series of if...elif...else statement that categorize input age into following groups:\n",
    "> Babies: 0-2 years old  \n",
    "Children: 3-12 years old  \n",
    "Teenager: 13-19 years old  \n",
    "Young Adults: 20-29 years old  \n",
    "Middle-aged Adults: 30-45 years old  \n",
    "Old Adult: 46-59 years old  \n",
    "Elderly: Above 60 years old  "
   ]
  },
  {
   "cell_type": "code",
   "execution_count": 18,
   "id": "77dc4105-8e3f-49da-932a-82611fd9dd8d",
   "metadata": {},
   "outputs": [
    {
     "name": "stdout",
     "output_type": "stream",
     "text": [
      "You are Teenager.\n"
     ]
    }
   ],
   "source": [
    "# Write your code here\n",
    "status = \"\"\n",
    "\n",
    "\n",
    "if 0 <= age <= 2:\n",
    "    status = \"Babies\"\n",
    "elif age <= 12:\n",
    "    status = \"Children\"\n",
    "elif age <= 19:\n",
    "    status = \"Teenager\"\n",
    "elif age <= 29:\n",
    "    status = \"Young Adults\"\n",
    "elif age <= 45:\n",
    "    status = \"Middle-aged Adults\"\n",
    "elif age <= 59:\n",
    "    status = \"Old Adult\"\n",
    "else:\n",
    "    status = \"Elderly\"\n",
    "\n",
    "\n",
    "print(\"You are\", status + \".\")"
   ]
  },
  {
   "cell_type": "markdown",
   "id": "c5713324-a3ea-46f9-9cd3-b3bbfa754ae7",
   "metadata": {},
   "source": [
    "### Looping"
   ]
  },
  {
   "cell_type": "markdown",
   "id": "93f2d88b-535e-4446-a81c-26d99ecedaaf",
   "metadata": {},
   "source": [
    "**1.** Write a code to create a multiplication table of an input number (multiplier from 1-12)."
   ]
  },
  {
   "cell_type": "code",
   "execution_count": 112,
   "id": "edea70e8-9bb0-46f1-9234-5b7c78c5038e",
   "metadata": {},
   "outputs": [
    {
     "name": "stdout",
     "output_type": "stream",
     "text": [
      "Please Input Number : 5\n",
      "5 x 1  = 5\n",
      "5 x 2  = 10\n",
      "5 x 3  = 15\n",
      "5 x 4  = 20\n",
      "5 x 5  = 25\n",
      "5 x 6  = 30\n",
      "5 x 7  = 35\n",
      "5 x 8  = 40\n",
      "5 x 9  = 45\n",
      "5 x 10 = 50\n",
      "5 x 11 = 55\n",
      "5 x 12 = 60\n"
     ]
    }
   ],
   "source": [
    "# Write your code here\n",
    "mul_num = int(input(\"Please Input Number : \"))\n",
    "print(\"Please Input Number :\", mul_num)\n",
    "for i in range(1, 12+1):\n",
    "    print(mul_num, \"x\", f\"{i:<2d}\", \"=\", mul_num*i)"
   ]
  },
  {
   "cell_type": "markdown",
   "id": "344ae7de-0986-416d-a86d-31f739a4df7a",
   "metadata": {},
   "source": [
    "**2.** Write a code that construct the following pattern.  "
   ]
  },
  {
   "cell_type": "raw",
   "id": "16aa5fe5-2651-4c06-9481-314df81a2d49",
   "metadata": {},
   "source": [
    "input: 5  \n",
    "output: \n",
    "*  \n",
    "**  \n",
    "***  \n",
    "****  \n",
    "***** "
   ]
  },
  {
   "cell_type": "code",
   "execution_count": 69,
   "id": "05671650-e184-4f5e-b17a-3e3f44a563e9",
   "metadata": {},
   "outputs": [
    {
     "name": "stdout",
     "output_type": "stream",
     "text": [
      "input: 5\n",
      "*\n",
      "**\n",
      "***\n",
      "****\n",
      "*****\n"
     ]
    }
   ],
   "source": [
    "# Write your code here\n",
    "pyramid1 = int(input(\"input: \"))\n",
    "print(\"input:\", pyramid1)\n",
    "for line in [\"*\" * i for i in range(1,pyramid1+1)]:\n",
    "    print(line)"
   ]
  },
  {
   "cell_type": "markdown",
   "id": "591e6802-3d1c-450c-96ff-17bb703cff34",
   "metadata": {},
   "source": [
    "**3.** Creates a loop to print `I love <programming language>!` except for Assembly, print `Not you, Assembly`."
   ]
  },
  {
   "cell_type": "code",
   "execution_count": 24,
   "id": "27ae77b1-cca1-45b0-853f-458bad532661",
   "metadata": {},
   "outputs": [],
   "source": [
    "languages = ['C/C++', 'Python', 'R', 'Java', 'SQLs', 'Assembly', 'Go', 'Rust', 'Kotlin']"
   ]
  },
  {
   "cell_type": "code",
   "execution_count": 70,
   "id": "f94fb0d3-1482-403d-a4d2-245191c75931",
   "metadata": {},
   "outputs": [
    {
     "name": "stdout",
     "output_type": "stream",
     "text": [
      "I love C/C++!\n",
      "I love Python!\n",
      "I love R!\n",
      "I love Java!\n",
      "I love SQLs!\n",
      "Not you, Assembly.\n",
      "I love Go!\n",
      "I love Rust!\n",
      "I love Kotlin!\n"
     ]
    }
   ],
   "source": [
    "# Write your code here\n",
    "for language in languages:\n",
    "    print(f\"I love {language}!\") if language != 'Assembly' else print(\"Not you, Assembly.\")"
   ]
  },
  {
   "cell_type": "markdown",
   "id": "b6e64546-269f-4b47-a1f3-d91bde2156c5",
   "metadata": {},
   "source": [
    "**4.** Write a code to print every number from 1 to 25 except the one that is divisible by 3."
   ]
  },
  {
   "cell_type": "code",
   "execution_count": 71,
   "id": "d09b0d6d-0245-4137-a160-1c7d5d5b7d52",
   "metadata": {},
   "outputs": [
    {
     "name": "stdout",
     "output_type": "stream",
     "text": [
      "1 2 4 5 7 8 10 11 13 14 16 17 19 20 22 23 25 "
     ]
    }
   ],
   "source": [
    "# Write your code here\n",
    "import numpy as np\n",
    "for num in np.arange(1, 26):\n",
    "    if num % 3:\n",
    "        print(num, end=\" \")"
   ]
  },
  {
   "cell_type": "markdown",
   "id": "96121e50-14d1-422c-855d-6b0f4df8d1ce",
   "metadata": {},
   "source": [
    "**5.** Write a code that finds the number that is divisible by 7 in a given range."
   ]
  },
  {
   "cell_type": "code",
   "execution_count": 76,
   "id": "b161d861-2250-48d1-a348-66a8616de8ca",
   "metadata": {},
   "outputs": [],
   "source": [
    "lower_bound = 1\n",
    "upper_bound = 100\n",
    "divisor = 7\n",
    "\n",
    "result = []"
   ]
  },
  {
   "cell_type": "code",
   "execution_count": 80,
   "id": "0ee01cfb-bbe2-482e-a7fd-cbcb0b444657",
   "metadata": {},
   "outputs": [
    {
     "name": "stdout",
     "output_type": "stream",
     "text": [
      "7, 14, 21, 28, 35, 42, 49, 56, 63, 70, 77, 84, 91, 98\n"
     ]
    }
   ],
   "source": [
    "# Write your code here\n",
    "def di(lower, upper, divisor, result):\n",
    "    result = list()\n",
    "    for num in np.arange(lower, upper+1):\n",
    "        result.append(num) if not (num % divisor) else []\n",
    "    return result\n",
    "\n",
    "print(*di(lower_bound, upper_bound, divisor, result), sep=\", \")"
   ]
  },
  {
   "cell_type": "markdown",
   "id": "5f79cd06-9c78-4d92-9c81-962ea26148e1",
   "metadata": {},
   "source": [
    "**6.** Write a code that construct the following pattern.  "
   ]
  },
  {
   "cell_type": "raw",
   "id": "f8583076-5656-4e2f-8615-7da2ddda7fd9",
   "metadata": {},
   "source": [
    "input: 5  \n",
    "output:  \n",
    "*#####\n",
    "**####\n",
    "***###\n",
    "****##\n",
    "*****#\n",
    "\n",
    "input: 10  \n",
    "output:  \n",
    "*##########  \n",
    "**#########  \n",
    "***########  \n",
    "****#######  \n",
    "*****######  \n",
    "******#####  \n",
    "*******####  \n",
    "********###  \n",
    "*********##  \n",
    "**********#  "
   ]
  },
  {
   "cell_type": "code",
   "execution_count": 54,
   "id": "e7ef0bd3-eb14-406a-842f-63716252ec26",
   "metadata": {},
   "outputs": [
    {
     "name": "stdout",
     "output_type": "stream",
     "text": [
      "input: 10 \n",
      "output:\n",
      "*##########\n",
      "**#########\n",
      "***########\n",
      "****#######\n",
      "*****######\n",
      "******#####\n",
      "*******####\n",
      "********###\n",
      "*********##\n",
      "**********#\n"
     ]
    }
   ],
   "source": [
    "# Write your code here\n",
    "input_num = int(input(\"input: \"))\n",
    "print(\"input:\", input_num, \"\\noutput:\")\n",
    "for num in range(1, input_num+1):\n",
    "    print(\"*\"*num + \"#\"*(input_num+1-num))"
   ]
  },
  {
   "cell_type": "markdown",
   "id": "aff11c81-82c8-4ac5-950e-9f8fc7e75717",
   "metadata": {},
   "source": [
    "## 5. Functions"
   ]
  },
  {
   "cell_type": "markdown",
   "id": "a9494a61-60d0-46dc-bfb6-9732cf2db524",
   "metadata": {},
   "source": [
    "**1.** Define a function `average` that takes arbitrary number of arguments and calculate the mean of input."
   ]
  },
  {
   "cell_type": "code",
   "execution_count": 90,
   "id": "4a7e53c3-c56e-4c12-96f6-090fdfffcfa7",
   "metadata": {},
   "outputs": [
    {
     "name": "stdout",
     "output_type": "stream",
     "text": [
      "The average of [2, 4, 5, 3] is 3.5.\n"
     ]
    }
   ],
   "source": [
    "# Write your code here\n",
    "def average(*numbers):\n",
    "    return sum(numbers)/len(numbers)\n",
    "\n",
    "num_list = [2, 4, 5, 3]\n",
    "print(\"The average of \", num_list, \" is \", average(*num_list), \".\", sep=\"\")"
   ]
  },
  {
   "cell_type": "markdown",
   "id": "b3518966-bb87-4045-ac93-a44dd659fdf2",
   "metadata": {},
   "source": [
    "**2.** Define a function `sumproduct` that takes 2 equal-sized lists and calculate sum of the products of two lists.  \n",
    "It should look like this:  \n",
    "> sumproduct([1,2,3],[4,5,6])  \n",
    "output: 32"
   ]
  },
  {
   "cell_type": "markdown",
   "id": "b8cc65c3-d723-4150-915f-50952b6c89b5",
   "metadata": {},
   "source": [
    "(1 * 4) + (2 * 5) + (3 * 6) = 32"
   ]
  },
  {
   "cell_type": "code",
   "execution_count": 6,
   "id": "5ee40a62-62c2-4c32-b443-be74c4561633",
   "metadata": {},
   "outputs": [
    {
     "data": {
      "text/plain": [
       "32"
      ]
     },
     "execution_count": 6,
     "metadata": {},
     "output_type": "execute_result"
    }
   ],
   "source": [
    "# Write your code here\n",
    "def sumproduct(list1, list2):\n",
    "    multiple_list = list(map(lambda x, y : x*y , list1, list2))\n",
    "    return sum(multiple_list)\n",
    "\n",
    "sumproduct([1,2,3],[4,5,6])"
   ]
  },
  {
   "cell_type": "markdown",
   "id": "fa9e1ec4-f283-4914-97b6-1c3c7e4559b3",
   "metadata": {},
   "source": [
    "**3.** Define a function `fibonacci` that returns Fibonacci number at `n` position.  \n",
    "A Fibonacci number at position `n` is defined by `F(n) = F(n-1) + F(n-2)`. Where `F(0) = 0` and `F(1) = 1`  \n",
    "**Example:** `0, 1, 1, 2, 3, 5, 8, 13, 21, 34, 55, 89, 144, ...`  "
   ]
  },
  {
   "cell_type": "code",
   "execution_count": 111,
   "id": "be842d69-614f-4a99-92b3-06546ecfad8a",
   "metadata": {},
   "outputs": [
    {
     "name": "stdout",
     "output_type": "stream",
     "text": [
      "Fibonacci number at <0> position is 0.\n",
      "Fibonacci number at <1> position is 1.\n",
      "Fibonacci number at <2> position is 1.\n",
      "Fibonacci number at <3> position is 2.\n",
      "Fibonacci number at <4> position is 3.\n",
      "Fibonacci number at <5> position is 5.\n",
      "Fibonacci number at <6> position is 8.\n",
      "\n",
      "                  ⋮                   \n"
     ]
    }
   ],
   "source": [
    "# Write your code here\n",
    "def fibonacci(n):\n",
    "    if n == 0:\n",
    "        return 0\n",
    "    elif n == 1:\n",
    "        return 1\n",
    "    else:\n",
    "        return fibonacci(n-1) + fibonacci(n-2)\n",
    "\n",
    "for i in range(7):\n",
    "    print(f\"Fibonacci number at <{i}> position is {fibonacci(i)}.\")\n",
    "print(f\"\\n{'⋮':^38s}\")\n",
    "    \n"
   ]
  },
  {
   "cell_type": "markdown",
   "id": "0fe45b53-d936-4f0f-a8fd-c1e0e62206d5",
   "metadata": {},
   "source": [
    "**4.** Define a function `is_palindrome` that takes input string and check whether it is a palindrome or not.  \n",
    "A string is a palindrome if it reads the same forward and backwards.  \n",
    "**Example:** `madam`, `race car`, `borrow or rob`, `amore roma`, `never odd or even`  \n",
    "Do not consider whitespace. Use `str.replace(' ', '')` to remove whitespace from your string.  \n",
    "Case-insensitive. You can turn everything into lower or uppercase using `str.lower()` or `str.upper()`  \n",
    "**Hint:** you can reverse the string using `[::-1]` slice."
   ]
  },
  {
   "cell_type": "code",
   "execution_count": 136,
   "id": "94112078-1914-4892-bae3-27b8296bb901",
   "metadata": {},
   "outputs": [],
   "source": [
    "str1 = \"radar\" # palindrome\n",
    "str2 = \"rotator\" # palindrome\n",
    "str3 = \"lemon\" # not palindrome"
   ]
  },
  {
   "cell_type": "code",
   "execution_count": 138,
   "id": "247b2d87-cd37-4389-a304-59a4229be2ff",
   "metadata": {},
   "outputs": [
    {
     "name": "stdout",
     "output_type": "stream",
     "text": [
      "\"radar\" is palindrome.\n",
      "\"rotator\" is palindrome.\n",
      "\"lemon\" is not palindrome.\n"
     ]
    }
   ],
   "source": [
    "# Write your code here\n",
    "def is_palindrome(str):\n",
    "    str = str.replace(' ', '').lower()\n",
    "    return str == str[::-1]\n",
    "\n",
    "show_palindrome = lambda str: f\"\\\"{str}\\\" is {'' if is_palindrome(str) else 'not '}palindrome.\"\n",
    "\n",
    "print(show_palindrome(str1))\n",
    "print(show_palindrome(str2))\n",
    "print(show_palindrome(str3))"
   ]
  },
  {
   "cell_type": "markdown",
   "id": "e71451d8-adc1-4d52-b9f7-c1a69e3fa65a",
   "metadata": {},
   "source": [
    "**5.** An `anagram` is a word or phrase formed by rearranging the letters of a different word or phrase.  \n",
    "Define a function `is_anagram` that takes in 2 strings and check whether it is possible to compose a second string using letters in the first string or not.  \n",
    "**Example:** `Tom Marrvolo Riddle` can be rearraged into `I am Lord Voldermort`  \n",
    "`Meaning of Life` can be rearranged into `Engine of a Film`  \n",
    "Do not consider whitespace. Use `str.replace(' ', '')` to remove whitespace from your string.  \n",
    "Case-insensitive. You can turn everything into lower or uppercase using `str.lower()` or `str.upper()`  \n",
    "Returns only `True` of `False`"
   ]
  },
  {
   "cell_type": "code",
   "execution_count": null,
   "id": "fb6fdf92-c164-49d1-9e2c-0065c9541409",
   "metadata": {},
   "outputs": [],
   "source": [
    "# Write your code here\n",
    "str1 = \"Meaning of Life\"\n",
    "str2 = \"Engine of a Film\"\n",
    "\n"
   ]
  },
  {
   "cell_type": "markdown",
   "id": "b4930c70-1db0-4c50-93c7-406538b1d140",
   "metadata": {},
   "source": [
    "---"
   ]
  }
 ],
 "metadata": {
  "kernelspec": {
   "display_name": "venv",
   "language": "python",
   "name": "python3"
  },
  "language_info": {
   "codemirror_mode": {
    "name": "ipython",
    "version": 3
   },
   "file_extension": ".py",
   "mimetype": "text/x-python",
   "name": "python",
   "nbconvert_exporter": "python",
   "pygments_lexer": "ipython3",
   "version": "3.11.1"
  },
  "vscode": {
   "interpreter": {
    "hash": "1403843c49786c356fa9e48af0a36f12648f69d93dbcdf51fd8afe1259a4b3ee"
   }
  }
 },
 "nbformat": 4,
 "nbformat_minor": 5
}
