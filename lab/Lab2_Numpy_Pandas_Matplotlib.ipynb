{
 "cells": [
  {
   "attachments": {},
   "cell_type": "markdown",
   "metadata": {},
   "source": [
    "# Lab 2: Numpy, Pandas and Matplotlib"
   ]
  },
  {
   "attachments": {},
   "cell_type": "markdown",
   "metadata": {},
   "source": [
    "## 1. Numpy"
   ]
  },
  {
   "attachments": {},
   "cell_type": "markdown",
   "metadata": {},
   "source": [
    "1. What are the differences between Numpy's array and Python's list?"
   ]
  },
  {
   "attachments": {},
   "cell_type": "markdown",
   "metadata": {},
   "source": [
    "> <br />\n",
    "> 1. \n",
    ">    - Numpy can create array faster (than python create list) with efficient and manipulating numerical data inside them. <br /><br />\n",
    "> 2. <br />\n",
    ">    - Python's list can contain different data types in same list `called heterogeneous`. <br />\n",
    ">    - Numpy's array elements must have the same data type `called homogeneous`. <br /><br />\n",
    "> 3. \n",
    ">    - Numpy's array use less memory (than python's list) to store data and it provides a mechanism of specifying the data types. <br /><br />\n",
    "> 4. \n",
    ">    - Numpy arrays have a `fixed size` at creation, unlike Python lists (can grow dynamically), so changing the size will create a new array and delete the original. <br /><br />"
   ]
  },
  {
   "attachments": {},
   "cell_type": "markdown",
   "metadata": {},
   "source": [
    "2. What are the advantages of using Numpy over Python's list for numerical computing?"
   ]
  },
  {
   "attachments": {},
   "cell_type": "markdown",
   "metadata": {},
   "source": [
    "> <br />\n",
    "> Numpy support some specific scientific features <br /><br />\n",
    ">   - linear algebra <br />\n",
    ">   - vectorized operations <br /><br />\n",
    "> which python cannot support these features. <br />\n",
    "> <br />"
   ]
  },
  {
   "attachments": {},
   "cell_type": "markdown",
   "metadata": {},
   "source": [
    "3. Give 4 example on how Numpy's ndarray can be created."
   ]
  },
  {
   "cell_type": "code",
   "execution_count": 83,
   "metadata": {},
   "outputs": [
    {
     "name": "stdout",
     "output_type": "stream",
     "text": [
      "<class 'numpy.ndarray'>\n"
     ]
    },
    {
     "data": {
      "text/plain": [
       "array(['x', 'y', 'z'], dtype='<U1')"
      ]
     },
     "execution_count": 83,
     "metadata": {},
     "output_type": "execute_result"
    }
   ],
   "source": [
    "import numpy as np\n",
    "\n",
    "# Convert from Python's list\n",
    "arr1 = np.array(['x', 'y', 'z'])\n",
    "print(type(arr1))\n",
    "arr1"
   ]
  },
  {
   "cell_type": "code",
   "execution_count": 3,
   "metadata": {},
   "outputs": [
    {
     "name": "stdout",
     "output_type": "stream",
     "text": [
      "<class 'numpy.ndarray'>\n"
     ]
    },
    {
     "data": {
      "text/plain": [
       "array([[0., 0., 0.],\n",
       "       [0., 0., 0.],\n",
       "       [0., 0., 0.],\n",
       "       [0., 0., 0.]])"
      ]
     },
     "execution_count": 3,
     "metadata": {},
     "output_type": "execute_result"
    }
   ],
   "source": [
    "# generate by np.zeros() : all element has zero as initial value\n",
    "arr2 = np.zeros((4, 3))\n",
    "print(type(arr2))\n",
    "arr2"
   ]
  },
  {
   "cell_type": "code",
   "execution_count": 4,
   "metadata": {},
   "outputs": [
    {
     "name": "stdout",
     "output_type": "stream",
     "text": [
      "<class 'numpy.ndarray'>\n"
     ]
    },
    {
     "data": {
      "text/plain": [
       "array([[1., 0., 0.],\n",
       "       [0., 1., 0.],\n",
       "       [0., 0., 1.]])"
      ]
     },
     "execution_count": 4,
     "metadata": {},
     "output_type": "execute_result"
    }
   ],
   "source": [
    "# generate by np.eye() : identity matrix\n",
    "arr3 = np.eye(3)\n",
    "print(type(arr3))\n",
    "arr3"
   ]
  },
  {
   "cell_type": "code",
   "execution_count": 5,
   "metadata": {},
   "outputs": [
    {
     "name": "stdout",
     "output_type": "stream",
     "text": [
      "<class 'numpy.ndarray'>\n"
     ]
    },
    {
     "data": {
      "text/plain": [
       "array([1., 3., 5., 7., 9.])"
      ]
     },
     "execution_count": 5,
     "metadata": {},
     "output_type": "execute_result"
    }
   ],
   "source": [
    "# generate by np.linspace(start, stop, step)\n",
    "arr4 = np.linspace(1, 9, 5)\n",
    "print(type(arr4))\n",
    "arr4"
   ]
  },
  {
   "attachments": {},
   "cell_type": "markdown",
   "metadata": {},
   "source": [
    "4. Give an example of Numpy's functions that change the shape of ndarray? Also provide\n",
    "short description of each function."
   ]
  },
  {
   "cell_type": "code",
   "execution_count": 6,
   "metadata": {},
   "outputs": [
    {
     "name": "stdout",
     "output_type": "stream",
     "text": [
      "[0 1 2 3]\n",
      "arr_bf shape :  (4,) \n",
      "\n",
      "[[0 1]\n",
      " [2 3]]\n",
      "arr_reshape_c shape :  (2, 2) \n",
      "\n",
      "[[0 2]\n",
      " [1 3]]\n",
      "arr_reshape_f shape :  (2, 2) \n",
      "\n",
      "[[0]\n",
      " [1]\n",
      " [2]\n",
      " [3]]\n",
      "arr_t shape :  (4, 1)\n"
     ]
    }
   ],
   "source": [
    "# initial array\n",
    "arr_bf = np.arange(4)\n",
    "print(arr_bf)\n",
    "print(\"arr_bf shape : \", arr_bf.shape, \"\\n\")\n",
    "\n",
    "# use reshape(row, col) : C-like index ordering\n",
    "arr_reshape_c = np.reshape(arr_bf, (2, 2))\n",
    "print(arr_reshape_c)\n",
    "print(\"arr_reshape_c shape : \", arr_reshape_c.shape, \"\\n\")\n",
    "\n",
    "# use reshape(row, col) : Fortran-like index ordering\n",
    "arr_reshape_f = np.reshape(arr_bf, (2, 2), order='F')\n",
    "print(arr_reshape_f) \n",
    "print(\"arr_reshape_f shape : \", arr_reshape_f.shape, \"\\n\")\n",
    "\n",
    "# use transpose : row ⇋ column (with 2D-array)\n",
    "arr_t = np.transpose([arr_bf])\n",
    "print(arr_t) \n",
    "print(\"arr_t shape : \", arr_t.shape)\n"
   ]
  },
  {
   "attachments": {},
   "cell_type": "markdown",
   "metadata": {},
   "source": [
    "## 2. Pandas"
   ]
  },
  {
   "cell_type": "code",
   "execution_count": 81,
   "metadata": {},
   "outputs": [],
   "source": [
    "import pandas as pd"
   ]
  },
  {
   "attachments": {},
   "cell_type": "markdown",
   "metadata": {},
   "source": [
    "1. What are two main data structure of Pandas? How are they differs and when should each be\n",
    "used?"
   ]
  },
  {
   "attachments": {},
   "cell_type": "markdown",
   "metadata": {},
   "source": [
    "> <br />\n",
    "> 1. Series <br />\n",
    ">   - one-dimensional labeled array, can holding any data type <br />\n",
    ">   - data inside can bring from `ndarray`, `scalar value`, or `dictionary` <br />\n",
    ">   - should use when having 1D array <br /><br />\n",
    "> 2. Dataframe <br />\n",
    ">   - two-dimensional labeled structure <br />\n",
    ">   - data inside can bring from `1D : ndarrays, lists, dicts, Series`, `2D numpy's array`, or `another Dataframe` <br />\n",
    ">   - should use for managing `spreadsheet`, `SQL table`, or any 2D table <br />\n",
    "> <br />"
   ]
  },
  {
   "attachments": {},
   "cell_type": "markdown",
   "metadata": {},
   "source": [
    "2. Give an example on how Pandas DataFrame can be created."
   ]
  },
  {
   "cell_type": "code",
   "execution_count": 84,
   "metadata": {},
   "outputs": [
    {
     "name": "stdout",
     "output_type": "stream",
     "text": [
      "* Empty Dataframe\n",
      "Empty DataFrame\n",
      "Columns: []\n",
      "Index: [] \n",
      "\n",
      "* Dataframe from Dictionary of ndarrays\n",
      "   a    b\n",
      "0  0  0.0\n",
      "1  1  0.0\n",
      "2  2  0.0\n",
      "3  3  0.0\n"
     ]
    }
   ],
   "source": [
    "# data : empty\n",
    "df1 = pd.DataFrame()\n",
    "print(\"* Empty Dataframe\")\n",
    "print(df1, \"\\n\")\n",
    "\n",
    "# data : dictionary of ndarrays\n",
    "df2 = pd.DataFrame({\n",
    "    'a' : np.arange(4),\n",
    "    'b' : np.zeros(4)\n",
    "})\n",
    "print(\"* Dataframe from Dictionary of ndarrays\")\n",
    "print(df2)"
   ]
  },
  {
   "attachments": {},
   "cell_type": "markdown",
   "metadata": {},
   "source": [
    "3. What is the difference between df.loc and df.iloc in data selection?"
   ]
  },
  {
   "attachments": {},
   "cell_type": "markdown",
   "metadata": {},
   "source": [
    "> - df.loc : choose rows & columns by specific `label`\n",
    "> - df.iloc : choose rowa & columns at specific `index position`"
   ]
  },
  {
   "attachments": {},
   "cell_type": "markdown",
   "metadata": {},
   "source": [
    "4. Why is it necessary to explore the cause of missing data? Can't we just drop it?"
   ]
  },
  {
   "attachments": {},
   "cell_type": "markdown",
   "metadata": {},
   "source": [
    "> <br />\n",
    "> Because sometimes if the value of some block have no value and have to calculate from the exist data, the blank data would effect to the new data. <br />\n",
    "> For example, when calculate average from data but have some missing data, the amount of data maybe more than the data that having then average maybe incorrect. <br />\n",
    "> Or it maybe cannot calculate because do not know the data type of the value and got error. <br /><br />\n"
   ]
  },
  {
   "attachments": {},
   "cell_type": "markdown",
   "metadata": {},
   "source": [
    "5. What is the difference between df.apply and df.transform ?"
   ]
  },
  {
   "attachments": {},
   "cell_type": "markdown",
   "metadata": {},
   "source": [
    "> \n",
    "> - df.transform cannot produce aggregated results.\n",
    "> - df.apply works with multiple Series at a time, df.transform can work with a single Series at a time.\n",
    "> - df.transform works with function, a string function, a list of functions, and a dict. df.apply is only work for function.\n",
    "> "
   ]
  },
  {
   "attachments": {},
   "cell_type": "markdown",
   "metadata": {},
   "source": [
    "6. Give an example of Pandas functions that transform the shape of dataframe."
   ]
  },
  {
   "cell_type": "code",
   "execution_count": 106,
   "metadata": {},
   "outputs": [
    {
     "data": {
      "text/html": [
       "<div>\n",
       "<style scoped>\n",
       "    .dataframe tbody tr th:only-of-type {\n",
       "        vertical-align: middle;\n",
       "    }\n",
       "\n",
       "    .dataframe tbody tr th {\n",
       "        vertical-align: top;\n",
       "    }\n",
       "\n",
       "    .dataframe thead th {\n",
       "        text-align: right;\n",
       "    }\n",
       "</style>\n",
       "<table border=\"1\" class=\"dataframe\">\n",
       "  <thead>\n",
       "    <tr style=\"text-align: right;\">\n",
       "      <th></th>\n",
       "      <th>a</th>\n",
       "      <th>b</th>\n",
       "    </tr>\n",
       "  </thead>\n",
       "  <tbody>\n",
       "    <tr>\n",
       "      <th>0</th>\n",
       "      <td>0</td>\n",
       "      <td>0.0</td>\n",
       "    </tr>\n",
       "    <tr>\n",
       "      <th>1</th>\n",
       "      <td>1</td>\n",
       "      <td>0.0</td>\n",
       "    </tr>\n",
       "    <tr>\n",
       "      <th>2</th>\n",
       "      <td>2</td>\n",
       "      <td>0.0</td>\n",
       "    </tr>\n",
       "    <tr>\n",
       "      <th>3</th>\n",
       "      <td>3</td>\n",
       "      <td>0.0</td>\n",
       "    </tr>\n",
       "  </tbody>\n",
       "</table>\n",
       "</div>"
      ],
      "text/plain": [
       "   a    b\n",
       "0  0  0.0\n",
       "1  1  0.0\n",
       "2  2  0.0\n",
       "3  3  0.0"
      ]
     },
     "execution_count": 106,
     "metadata": {},
     "output_type": "execute_result"
    }
   ],
   "source": [
    "# initial dataframe\n",
    "df = pd.DataFrame({\n",
    "    'a' : np.arange(4),\n",
    "    'b' : np.zeros(4)\n",
    "})\n",
    "\n",
    "df"
   ]
  },
  {
   "cell_type": "code",
   "execution_count": 93,
   "metadata": {},
   "outputs": [
    {
     "data": {
      "text/html": [
       "<div>\n",
       "<style scoped>\n",
       "    .dataframe tbody tr th:only-of-type {\n",
       "        vertical-align: middle;\n",
       "    }\n",
       "\n",
       "    .dataframe tbody tr th {\n",
       "        vertical-align: top;\n",
       "    }\n",
       "\n",
       "    .dataframe thead th {\n",
       "        text-align: right;\n",
       "    }\n",
       "</style>\n",
       "<table border=\"1\" class=\"dataframe\">\n",
       "  <thead>\n",
       "    <tr style=\"text-align: right;\">\n",
       "      <th></th>\n",
       "      <th>0</th>\n",
       "      <th>1</th>\n",
       "      <th>2</th>\n",
       "      <th>3</th>\n",
       "    </tr>\n",
       "  </thead>\n",
       "  <tbody>\n",
       "    <tr>\n",
       "      <th>a</th>\n",
       "      <td>0.0</td>\n",
       "      <td>1.0</td>\n",
       "      <td>2.0</td>\n",
       "      <td>3.0</td>\n",
       "    </tr>\n",
       "    <tr>\n",
       "      <th>b</th>\n",
       "      <td>0.0</td>\n",
       "      <td>0.0</td>\n",
       "      <td>0.0</td>\n",
       "      <td>0.0</td>\n",
       "    </tr>\n",
       "  </tbody>\n",
       "</table>\n",
       "</div>"
      ],
      "text/plain": [
       "     0    1    2    3\n",
       "a  0.0  1.0  2.0  3.0\n",
       "b  0.0  0.0  0.0  0.0"
      ]
     },
     "execution_count": 93,
     "metadata": {},
     "output_type": "execute_result"
    }
   ],
   "source": [
    "# row ⇋ col\n",
    "df.transpose()"
   ]
  },
  {
   "cell_type": "code",
   "execution_count": 108,
   "metadata": {},
   "outputs": [
    {
     "data": {
      "text/html": [
       "<div>\n",
       "<style scoped>\n",
       "    .dataframe tbody tr th:only-of-type {\n",
       "        vertical-align: middle;\n",
       "    }\n",
       "\n",
       "    .dataframe tbody tr th {\n",
       "        vertical-align: top;\n",
       "    }\n",
       "\n",
       "    .dataframe thead tr th {\n",
       "        text-align: left;\n",
       "    }\n",
       "\n",
       "    .dataframe thead tr:last-of-type th {\n",
       "        text-align: right;\n",
       "    }\n",
       "</style>\n",
       "<table border=\"1\" class=\"dataframe\">\n",
       "  <thead>\n",
       "    <tr>\n",
       "      <th>a</th>\n",
       "    </tr>\n",
       "  </thead>\n",
       "  <tbody>\n",
       "    <tr>\n",
       "      <th>0</th>\n",
       "    </tr>\n",
       "    <tr>\n",
       "      <th>1</th>\n",
       "    </tr>\n",
       "    <tr>\n",
       "      <th>2</th>\n",
       "    </tr>\n",
       "    <tr>\n",
       "      <th>3</th>\n",
       "    </tr>\n",
       "  </tbody>\n",
       "</table>\n",
       "</div>"
      ],
      "text/plain": [
       "Empty DataFrame\n",
       "Columns: []\n",
       "Index: [0, 1, 2, 3]"
      ]
     },
     "execution_count": 108,
     "metadata": {},
     "output_type": "execute_result"
    }
   ],
   "source": [
    "# index from a, column from b\n",
    "df = pd.pivot(df, index=['a'], columns='b') \n",
    "df"
   ]
  },
  {
   "attachments": {},
   "cell_type": "markdown",
   "metadata": {},
   "source": [
    "7. From superstore dataset, prepare the dataset to answer following question. Provide explanation on each step as well."
   ]
  },
  {
   "cell_type": "code",
   "execution_count": 3,
   "metadata": {},
   "outputs": [],
   "source": [
    "data_order = pd.read_csv(r'../public/data/superstore_order.csv')\n",
    "data_people = pd.read_csv(r'../public/data/superstore_people.csv')\n",
    "data_return = pd.read_csv(r'../public/data/superstore_return.csv')"
   ]
  },
  {
   "attachments": {},
   "cell_type": "markdown",
   "metadata": {},
   "source": [
    "<pre>       1. Observe the weekly sales of each product </pre>"
   ]
  },
  {
   "cell_type": "code",
   "execution_count": 10,
   "metadata": {},
   "outputs": [
    {
     "name": "stdout",
     "output_type": "stream",
     "text": [
      "Order Date  Product ID     \n",
      "2013-12-29  OFF-AR-10003478    1\n",
      "            OFF-BI-10004094    1\n",
      "            OFF-LA-10003223    1\n",
      "            OFF-PA-10000174    1\n",
      "            OFF-ST-10002743    1\n",
      "                              ..\n",
      "2017-12-24  TEC-PH-10000347    1\n",
      "            TEC-PH-10000576    1\n",
      "            TEC-PH-10002563    1\n",
      "            TEC-PH-10002890    1\n",
      "            TEC-PH-10004774    1\n",
      "Name: Count, Length: 8745, dtype: int64\n"
     ]
    }
   ],
   "source": [
    "df_order = pd.DataFrame(data_order.copy())\n",
    "df_week_order = df_order\n",
    "df_week_order['Order Date'] = pd.to_datetime(df_week_order['Order Date'], dayfirst=True) - pd.to_timedelta(7, unit='d')\n",
    "df_count = df_week_order[['Order Date', 'Product ID']].value_counts().reset_index()\n",
    "df_count.columns = ['Order Date', 'Product ID', 'Count']\n",
    "print(df_count.groupby([pd.Grouper(key='Order Date', freq='w'), 'Product ID'])['Count'].sum())\n"
   ]
  },
  {
   "attachments": {},
   "cell_type": "markdown",
   "metadata": {},
   "source": [
    "<pre>       2. Find out which customers have returned products at least once </pre>"
   ]
  },
  {
   "cell_type": "code",
   "execution_count": 11,
   "metadata": {},
   "outputs": [
    {
     "data": {
      "text/plain": [
       "array(['Zuschuss Donatelli', 'Ted Butterfield', 'Jim Sink',\n",
       "       'Lena Creighton', 'Bruce Stewart', 'Victoria Wilson',\n",
       "       'Joni Blumstein', 'Grace Kelly', 'Alejandro Savely',\n",
       "       'Philip Brown', 'Mike Kennedy', 'Philisse Overcash',\n",
       "       'Troy Blackwell', 'Tanja Norvell', 'Michelle Tran',\n",
       "       'Maribeth Yedwab', 'Dean Braden', 'Erin Smith', 'Frank Preis',\n",
       "       'Zuschuss Carroll', 'Fred McMath', 'Rick Bensley', 'Dorris liebe',\n",
       "       'Nick Zandusky', 'Carlos Daly', 'Chuck Clark', 'Jill Stevenson',\n",
       "       'Logan Currie', 'Brian Moss', 'Greg Hansen', 'Phillina Ober',\n",
       "       'Roland Fjeld', 'John Stevenson', 'Deanra Eno', 'Erica Hernandez',\n",
       "       'Naresj Patel', 'Noel Staavos', 'Neoma Murray',\n",
       "       'Russell Applegate', 'Larry Tron', 'Harold Ryan',\n",
       "       'Bradley Talbott', 'Linda Southworth', 'Stefania Perrino',\n",
       "       'Greg Matthias', 'Erica Bern', 'Henry Goldwyn', 'Laurel Workman',\n",
       "       'Valerie Dominguez', 'Katherine Murray', 'Beth Thompson',\n",
       "       'Joel Eaton', 'Lindsay Shagiari', 'Ivan Gibson',\n",
       "       'Marina Lichtenstein', 'Hilary Holden', 'Steven Cartwright',\n",
       "       'Jamie Kunitz', 'Logan Haushalter', 'Arthur Gainer',\n",
       "       'Benjamin Patterson', 'Cathy Prescott', 'Joy Daniels',\n",
       "       'Stuart Calhoun', 'Carl Weiss', 'Deborah Brumfield',\n",
       "       'Magdelene Morse', 'Ruben Dartt', 'Sandra Glassco',\n",
       "       'Theresa Swint', 'Allen Goldenen', 'Barry Franz',\n",
       "       'Justin MacKendrick', 'Helen Wasserman', 'Christina Anderson',\n",
       "       'Luke Schmidt', 'Lori Olson', 'John Murray', 'Sean Miller',\n",
       "       'Matthew Clasen', 'Rick Reed', 'Carol Triggs', 'Yoseph Carroll',\n",
       "       'Brosina Hoffman', 'Xylona Preis', 'Jay Kimmel', 'Thomas Thornton',\n",
       "       'Mike Pelletier', 'Andy Yotov', 'Julia Barnett', 'Sanjit Chand',\n",
       "       'Dario Medina', 'Justin Hirsh', 'Cynthia Voltz', 'Cari Sayre',\n",
       "       'Tamara Chand', 'Jennifer Patt', 'Evan Henry', 'Rob Dowd',\n",
       "       'Emily Burns', 'Mitch Willingham', 'Patrick Ryan', 'Clay Ludtke',\n",
       "       'Corey Catlett', 'Bill Donatelli', 'Clay Cheatham', 'Amy Cox',\n",
       "       'Ralph Arnett', 'Matt Hagelstein', 'Roland Schwarz',\n",
       "       'Roland Murray', 'Dan Reichenbach', 'Anna Häberlin',\n",
       "       'Craig Carroll', 'Toby Carlisle', 'Craig Carreira',\n",
       "       'Bradley Nguyen', 'Penelope Sewall', 'Anthony Johnson',\n",
       "       'Eugene Hildebrand', 'Helen Andreada', 'Heather Kirkland',\n",
       "       'Steven Roelle', 'Shui Tom', 'Mark Van Huff', 'John Lee',\n",
       "       'Vivek Sundaresam', 'Ben Wallace', 'Bill Eplett', 'David Smith',\n",
       "       'Ken Black', 'Denny Joy', 'Benjamin Venier', 'Pete Kriz',\n",
       "       'Joseph Holt', 'Alan Schoenberger', 'Berenike Kampe',\n",
       "       'Darrin Martin', 'Alejandro Ballentine', 'Sarah Jordon',\n",
       "       'Duane Noonan', 'Sung Pak', 'Dianna Vittorini', 'John Grady',\n",
       "       'Matt Connell', 'Carlos Soltero', 'Larry Hughes',\n",
       "       'Bruce Degenhardt', 'Erin Ashbrook', 'Adrian Hane',\n",
       "       'Natalie Webber', 'Dave Hallsten', 'Julie Prescott', 'Beth Paige',\n",
       "       'Arthur Prichep', 'Patrick Gardner', 'Michael Nguyen',\n",
       "       'Shahid Shariari', 'Charles Crestani', 'Amy Hunt', 'Eric Hoffmann',\n",
       "       'Seth Vernon', 'Stephanie Phelps', 'Christy Brittain',\n",
       "       'Saphhira Shifley', 'Eileen Kiefer', 'Helen Abelman',\n",
       "       'Jonathan Howell', 'Nat Gilpin', 'Edward Becker', 'Eugene Moren',\n",
       "       'Sue Ann Reed', 'Bart Watters', 'Robert Dilbeck', 'Michael Grace',\n",
       "       'Chris Cortes', 'Ed Jacobs', 'Andrew Gjertsen', 'Juliana Krohn',\n",
       "       'Joe Elijah', 'Sonia Sunley', 'Anthony Jacobs', 'Ionia McGrath',\n",
       "       'Pamela Stobb', 'Adrian Barton', 'Craig Yedwab', 'William Brown',\n",
       "       'Greg Guthrie', 'Lena Hernandez', 'Marc Harrigan', 'Chad McGuire',\n",
       "       'Edward Hooks', 'Marc Crier', 'Lena Cacioppo', 'Jay Fein',\n",
       "       'Rob Lucas', 'Anna Gayman', 'Mark Haberlin', 'Andy Reiter',\n",
       "       'Anna Andreadi', 'Steven Ward', 'Laurel Beltran', 'Sara Luxemburg',\n",
       "       'Gene McClure', 'Rick Wilson', 'Guy Armstrong', 'Doug OConnell',\n",
       "       'Raymond Buch', 'Lisa Ryan', 'Brian Derr', 'Karen Bern',\n",
       "       'Sean ODonnell', 'Bill Tyler', 'Chris McAfee', 'Mark Hamilton',\n",
       "       'Resi Pölking', 'Heather Jas', 'Emily Ducich', 'Thomas Seio',\n",
       "       'Maureen Fritzler', 'Sally Hughsby', 'Richard Bierner'],\n",
       "      dtype=object)"
      ]
     },
     "execution_count": 11,
     "metadata": {},
     "output_type": "execute_result"
    }
   ],
   "source": [
    "df_order = pd.DataFrame(data_order.copy())\n",
    "df_return = pd.DataFrame(data_return.copy())\n",
    "df_order.apply(lambda row: row[df_order['Order ID'].isin( df_return['Order ID'] )])['Customer Name'].unique()"
   ]
  },
  {
   "attachments": {},
   "cell_type": "markdown",
   "metadata": {},
   "source": [
    "<pre>       3. Sales to profit ratio of each subcategory </pre>"
   ]
  },
  {
   "cell_type": "code",
   "execution_count": 12,
   "metadata": {},
   "outputs": [
    {
     "data": {
      "text/html": [
       "<div>\n",
       "<style scoped>\n",
       "    .dataframe tbody tr th:only-of-type {\n",
       "        vertical-align: middle;\n",
       "    }\n",
       "\n",
       "    .dataframe tbody tr th {\n",
       "        vertical-align: top;\n",
       "    }\n",
       "\n",
       "    .dataframe thead th {\n",
       "        text-align: right;\n",
       "    }\n",
       "</style>\n",
       "<table border=\"1\" class=\"dataframe\">\n",
       "  <thead>\n",
       "    <tr style=\"text-align: right;\">\n",
       "      <th></th>\n",
       "      <th>Sales</th>\n",
       "      <th>Profit</th>\n",
       "      <th>Sales/Profit</th>\n",
       "    </tr>\n",
       "    <tr>\n",
       "      <th>Sub-Category</th>\n",
       "      <th></th>\n",
       "      <th></th>\n",
       "      <th></th>\n",
       "    </tr>\n",
       "  </thead>\n",
       "  <tbody>\n",
       "    <tr>\n",
       "      <th>Accessories</th>\n",
       "      <td>151054.3940</td>\n",
       "      <td>38456.8536</td>\n",
       "      <td>3.927893</td>\n",
       "    </tr>\n",
       "    <tr>\n",
       "      <th>Appliances</th>\n",
       "      <td>95924.5270</td>\n",
       "      <td>15887.0741</td>\n",
       "      <td>6.037898</td>\n",
       "    </tr>\n",
       "    <tr>\n",
       "      <th>Art</th>\n",
       "      <td>24141.6560</td>\n",
       "      <td>5778.5500</td>\n",
       "      <td>4.177805</td>\n",
       "    </tr>\n",
       "    <tr>\n",
       "      <th>Binders</th>\n",
       "      <td>167278.8660</td>\n",
       "      <td>23106.6372</td>\n",
       "      <td>7.239429</td>\n",
       "    </tr>\n",
       "    <tr>\n",
       "      <th>Bookcases</th>\n",
       "      <td>97751.4547</td>\n",
       "      <td>-3422.9518</td>\n",
       "      <td>-28.557649</td>\n",
       "    </tr>\n",
       "    <tr>\n",
       "      <th>Chairs</th>\n",
       "      <td>286036.3570</td>\n",
       "      <td>23684.8637</td>\n",
       "      <td>12.076758</td>\n",
       "    </tr>\n",
       "    <tr>\n",
       "      <th>Copiers</th>\n",
       "      <td>140448.1820</td>\n",
       "      <td>52132.8809</td>\n",
       "      <td>2.694042</td>\n",
       "    </tr>\n",
       "    <tr>\n",
       "      <th>Envelopes</th>\n",
       "      <td>15334.9320</td>\n",
       "      <td>6499.0098</td>\n",
       "      <td>2.359580</td>\n",
       "    </tr>\n",
       "    <tr>\n",
       "      <th>Fasteners</th>\n",
       "      <td>2816.0740</td>\n",
       "      <td>881.3539</td>\n",
       "      <td>3.195168</td>\n",
       "    </tr>\n",
       "    <tr>\n",
       "      <th>Furnishings</th>\n",
       "      <td>79183.1560</td>\n",
       "      <td>11431.8811</td>\n",
       "      <td>6.926520</td>\n",
       "    </tr>\n",
       "    <tr>\n",
       "      <th>Labels</th>\n",
       "      <td>11154.9620</td>\n",
       "      <td>4932.0810</td>\n",
       "      <td>2.261715</td>\n",
       "    </tr>\n",
       "    <tr>\n",
       "      <th>Machines</th>\n",
       "      <td>182883.0680</td>\n",
       "      <td>3197.3591</td>\n",
       "      <td>57.198163</td>\n",
       "    </tr>\n",
       "    <tr>\n",
       "      <th>Paper</th>\n",
       "      <td>70366.7620</td>\n",
       "      <td>30555.9964</td>\n",
       "      <td>2.302879</td>\n",
       "    </tr>\n",
       "    <tr>\n",
       "      <th>Phones</th>\n",
       "      <td>293962.5020</td>\n",
       "      <td>39623.3996</td>\n",
       "      <td>7.418912</td>\n",
       "    </tr>\n",
       "    <tr>\n",
       "      <th>Storage</th>\n",
       "      <td>198907.3000</td>\n",
       "      <td>19375.9264</td>\n",
       "      <td>10.265692</td>\n",
       "    </tr>\n",
       "    <tr>\n",
       "      <th>Supplies</th>\n",
       "      <td>44980.1640</td>\n",
       "      <td>-1189.6050</td>\n",
       "      <td>-37.811008</td>\n",
       "    </tr>\n",
       "    <tr>\n",
       "      <th>Tables</th>\n",
       "      <td>183467.5060</td>\n",
       "      <td>-14835.2311</td>\n",
       "      <td>-12.367014</td>\n",
       "    </tr>\n",
       "  </tbody>\n",
       "</table>\n",
       "</div>"
      ],
      "text/plain": [
       "                    Sales      Profit  Sales/Profit\n",
       "Sub-Category                                       \n",
       "Accessories   151054.3940  38456.8536      3.927893\n",
       "Appliances     95924.5270  15887.0741      6.037898\n",
       "Art            24141.6560   5778.5500      4.177805\n",
       "Binders       167278.8660  23106.6372      7.239429\n",
       "Bookcases      97751.4547  -3422.9518    -28.557649\n",
       "Chairs        286036.3570  23684.8637     12.076758\n",
       "Copiers       140448.1820  52132.8809      2.694042\n",
       "Envelopes      15334.9320   6499.0098      2.359580\n",
       "Fasteners       2816.0740    881.3539      3.195168\n",
       "Furnishings    79183.1560  11431.8811      6.926520\n",
       "Labels         11154.9620   4932.0810      2.261715\n",
       "Machines      182883.0680   3197.3591     57.198163\n",
       "Paper          70366.7620  30555.9964      2.302879\n",
       "Phones        293962.5020  39623.3996      7.418912\n",
       "Storage       198907.3000  19375.9264     10.265692\n",
       "Supplies       44980.1640  -1189.6050    -37.811008\n",
       "Tables        183467.5060 -14835.2311    -12.367014"
      ]
     },
     "execution_count": 12,
     "metadata": {},
     "output_type": "execute_result"
    }
   ],
   "source": [
    "df_order = pd.DataFrame(data_order.copy())\n",
    "sale_to_pro = df_order.groupby(['Sub-Category'])[['Sales','Profit']].sum()\n",
    "sale_to_pro['Sales/Profit'] = sale_to_pro['Sales'] / sale_to_pro['Profit']\n",
    "sale_to_pro"
   ]
  },
  {
   "attachments": {},
   "cell_type": "markdown",
   "metadata": {},
   "source": [
    "<pre>       4. Orders that takes more than 5 days to prepare for shipping </pre>"
   ]
  },
  {
   "cell_type": "code",
   "execution_count": 13,
   "metadata": {},
   "outputs": [
    {
     "data": {
      "text/html": [
       "<div>\n",
       "<style scoped>\n",
       "    .dataframe tbody tr th:only-of-type {\n",
       "        vertical-align: middle;\n",
       "    }\n",
       "\n",
       "    .dataframe tbody tr th {\n",
       "        vertical-align: top;\n",
       "    }\n",
       "\n",
       "    .dataframe thead th {\n",
       "        text-align: right;\n",
       "    }\n",
       "</style>\n",
       "<table border=\"1\" class=\"dataframe\">\n",
       "  <thead>\n",
       "    <tr style=\"text-align: right;\">\n",
       "      <th></th>\n",
       "      <th>Row ID</th>\n",
       "      <th>Order ID</th>\n",
       "      <th>Order Date</th>\n",
       "      <th>Ship Date</th>\n",
       "      <th>Ship Mode</th>\n",
       "      <th>Customer ID</th>\n",
       "      <th>Customer Name</th>\n",
       "      <th>Segment</th>\n",
       "      <th>Country</th>\n",
       "      <th>City</th>\n",
       "      <th>...</th>\n",
       "      <th>Region</th>\n",
       "      <th>Product ID</th>\n",
       "      <th>Category</th>\n",
       "      <th>Sub-Category</th>\n",
       "      <th>Product Name</th>\n",
       "      <th>Sales</th>\n",
       "      <th>Quantity</th>\n",
       "      <th>Discount</th>\n",
       "      <th>Profit</th>\n",
       "      <th>Pre_Shipping</th>\n",
       "    </tr>\n",
       "  </thead>\n",
       "  <tbody>\n",
       "    <tr>\n",
       "      <th>3</th>\n",
       "      <td>4</td>\n",
       "      <td>US-2015-108966</td>\n",
       "      <td>11/10/2015</td>\n",
       "      <td>18/10/2015</td>\n",
       "      <td>Standard Class</td>\n",
       "      <td>SO-20335</td>\n",
       "      <td>Sean ODonnell</td>\n",
       "      <td>Consumer</td>\n",
       "      <td>United States</td>\n",
       "      <td>Fort Lauderdale</td>\n",
       "      <td>...</td>\n",
       "      <td>South</td>\n",
       "      <td>FUR-TA-10000577</td>\n",
       "      <td>Furniture</td>\n",
       "      <td>Tables</td>\n",
       "      <td>Bretford CR4500 Series Slim Rectangular Table</td>\n",
       "      <td>957.5775</td>\n",
       "      <td>5</td>\n",
       "      <td>0.45</td>\n",
       "      <td>-383.0310</td>\n",
       "      <td>7</td>\n",
       "    </tr>\n",
       "    <tr>\n",
       "      <th>4</th>\n",
       "      <td>5</td>\n",
       "      <td>US-2015-108966</td>\n",
       "      <td>11/10/2015</td>\n",
       "      <td>18/10/2015</td>\n",
       "      <td>Standard Class</td>\n",
       "      <td>SO-20335</td>\n",
       "      <td>Sean ODonnell</td>\n",
       "      <td>Consumer</td>\n",
       "      <td>United States</td>\n",
       "      <td>Fort Lauderdale</td>\n",
       "      <td>...</td>\n",
       "      <td>South</td>\n",
       "      <td>OFF-ST-10000760</td>\n",
       "      <td>Office Supplies</td>\n",
       "      <td>Storage</td>\n",
       "      <td>Eldon Fold N Roll Cart System</td>\n",
       "      <td>22.3680</td>\n",
       "      <td>2</td>\n",
       "      <td>0.20</td>\n",
       "      <td>2.5164</td>\n",
       "      <td>7</td>\n",
       "    </tr>\n",
       "    <tr>\n",
       "      <th>16</th>\n",
       "      <td>17</td>\n",
       "      <td>CA-2014-105893</td>\n",
       "      <td>11/11/2014</td>\n",
       "      <td>18/11/2014</td>\n",
       "      <td>Standard Class</td>\n",
       "      <td>PK-19075</td>\n",
       "      <td>Pete Kriz</td>\n",
       "      <td>Consumer</td>\n",
       "      <td>United States</td>\n",
       "      <td>Madison</td>\n",
       "      <td>...</td>\n",
       "      <td>Central</td>\n",
       "      <td>OFF-ST-10004186</td>\n",
       "      <td>Office Supplies</td>\n",
       "      <td>Storage</td>\n",
       "      <td>Stur-D-Stor Shelving Vertical 5-Shelf: 72H x 3...</td>\n",
       "      <td>665.8800</td>\n",
       "      <td>6</td>\n",
       "      <td>0.00</td>\n",
       "      <td>13.3176</td>\n",
       "      <td>7</td>\n",
       "    </tr>\n",
       "    <tr>\n",
       "      <th>53</th>\n",
       "      <td>54</td>\n",
       "      <td>CA-2016-105816</td>\n",
       "      <td>11/12/2016</td>\n",
       "      <td>17/12/2016</td>\n",
       "      <td>Standard Class</td>\n",
       "      <td>JM-15265</td>\n",
       "      <td>Janet Molinari</td>\n",
       "      <td>Corporate</td>\n",
       "      <td>United States</td>\n",
       "      <td>New York City</td>\n",
       "      <td>...</td>\n",
       "      <td>East</td>\n",
       "      <td>OFF-FA-10000304</td>\n",
       "      <td>Office Supplies</td>\n",
       "      <td>Fasteners</td>\n",
       "      <td>Advantus Push Pins</td>\n",
       "      <td>15.2600</td>\n",
       "      <td>7</td>\n",
       "      <td>0.00</td>\n",
       "      <td>6.2566</td>\n",
       "      <td>6</td>\n",
       "    </tr>\n",
       "    <tr>\n",
       "      <th>54</th>\n",
       "      <td>55</td>\n",
       "      <td>CA-2016-105816</td>\n",
       "      <td>11/12/2016</td>\n",
       "      <td>17/12/2016</td>\n",
       "      <td>Standard Class</td>\n",
       "      <td>JM-15265</td>\n",
       "      <td>Janet Molinari</td>\n",
       "      <td>Corporate</td>\n",
       "      <td>United States</td>\n",
       "      <td>New York City</td>\n",
       "      <td>...</td>\n",
       "      <td>East</td>\n",
       "      <td>TEC-PH-10002447</td>\n",
       "      <td>Technology</td>\n",
       "      <td>Phones</td>\n",
       "      <td>AT&amp;T CL83451 4-Handset Telephone</td>\n",
       "      <td>1029.9500</td>\n",
       "      <td>5</td>\n",
       "      <td>0.00</td>\n",
       "      <td>298.6855</td>\n",
       "      <td>6</td>\n",
       "    </tr>\n",
       "    <tr>\n",
       "      <th>...</th>\n",
       "      <td>...</td>\n",
       "      <td>...</td>\n",
       "      <td>...</td>\n",
       "      <td>...</td>\n",
       "      <td>...</td>\n",
       "      <td>...</td>\n",
       "      <td>...</td>\n",
       "      <td>...</td>\n",
       "      <td>...</td>\n",
       "      <td>...</td>\n",
       "      <td>...</td>\n",
       "      <td>...</td>\n",
       "      <td>...</td>\n",
       "      <td>...</td>\n",
       "      <td>...</td>\n",
       "      <td>...</td>\n",
       "      <td>...</td>\n",
       "      <td>...</td>\n",
       "      <td>...</td>\n",
       "      <td>...</td>\n",
       "      <td>...</td>\n",
       "    </tr>\n",
       "    <tr>\n",
       "      <th>8865</th>\n",
       "      <td>8866</td>\n",
       "      <td>CA-2015-158148</td>\n",
       "      <td>20/12/2015</td>\n",
       "      <td>26/12/2015</td>\n",
       "      <td>Standard Class</td>\n",
       "      <td>JM-15865</td>\n",
       "      <td>John Murray</td>\n",
       "      <td>Consumer</td>\n",
       "      <td>United States</td>\n",
       "      <td>Arlington</td>\n",
       "      <td>...</td>\n",
       "      <td>South</td>\n",
       "      <td>OFF-AP-10003281</td>\n",
       "      <td>Office Supplies</td>\n",
       "      <td>Appliances</td>\n",
       "      <td>Acco 6 Outlet Guardian Standard Surge Suppressor</td>\n",
       "      <td>36.2700</td>\n",
       "      <td>3</td>\n",
       "      <td>0.00</td>\n",
       "      <td>10.8810</td>\n",
       "      <td>6</td>\n",
       "    </tr>\n",
       "    <tr>\n",
       "      <th>8875</th>\n",
       "      <td>8876</td>\n",
       "      <td>US-2016-141264</td>\n",
       "      <td>13/08/2016</td>\n",
       "      <td>19/08/2016</td>\n",
       "      <td>Standard Class</td>\n",
       "      <td>CT-11995</td>\n",
       "      <td>Carol Triggs</td>\n",
       "      <td>Consumer</td>\n",
       "      <td>United States</td>\n",
       "      <td>Irving</td>\n",
       "      <td>...</td>\n",
       "      <td>Central</td>\n",
       "      <td>OFF-SU-10003505</td>\n",
       "      <td>Office Supplies</td>\n",
       "      <td>Supplies</td>\n",
       "      <td>Premier Electric Letter Opener</td>\n",
       "      <td>185.3760</td>\n",
       "      <td>2</td>\n",
       "      <td>0.20</td>\n",
       "      <td>-34.7580</td>\n",
       "      <td>6</td>\n",
       "    </tr>\n",
       "    <tr>\n",
       "      <th>8876</th>\n",
       "      <td>8877</td>\n",
       "      <td>US-2016-141264</td>\n",
       "      <td>13/08/2016</td>\n",
       "      <td>19/08/2016</td>\n",
       "      <td>Standard Class</td>\n",
       "      <td>CT-11995</td>\n",
       "      <td>Carol Triggs</td>\n",
       "      <td>Consumer</td>\n",
       "      <td>United States</td>\n",
       "      <td>Irving</td>\n",
       "      <td>...</td>\n",
       "      <td>Central</td>\n",
       "      <td>OFF-AP-10002534</td>\n",
       "      <td>Office Supplies</td>\n",
       "      <td>Appliances</td>\n",
       "      <td>3.6 Cubic Foot Counter Height Office Refrigerator</td>\n",
       "      <td>58.9240</td>\n",
       "      <td>1</td>\n",
       "      <td>0.80</td>\n",
       "      <td>-153.2024</td>\n",
       "      <td>6</td>\n",
       "    </tr>\n",
       "    <tr>\n",
       "      <th>8877</th>\n",
       "      <td>8878</td>\n",
       "      <td>CA-2017-126928</td>\n",
       "      <td>17/09/2017</td>\n",
       "      <td>23/09/2017</td>\n",
       "      <td>Standard Class</td>\n",
       "      <td>GZ-14470</td>\n",
       "      <td>Gary Zandusky</td>\n",
       "      <td>Consumer</td>\n",
       "      <td>United States</td>\n",
       "      <td>Morristown</td>\n",
       "      <td>...</td>\n",
       "      <td>East</td>\n",
       "      <td>TEC-MA-10004626</td>\n",
       "      <td>Technology</td>\n",
       "      <td>Machines</td>\n",
       "      <td>Lexmark 20R1285 X6650 Wireless All-in-One Printer</td>\n",
       "      <td>480.0000</td>\n",
       "      <td>4</td>\n",
       "      <td>0.00</td>\n",
       "      <td>225.6000</td>\n",
       "      <td>6</td>\n",
       "    </tr>\n",
       "    <tr>\n",
       "      <th>8878</th>\n",
       "      <td>8879</td>\n",
       "      <td>CA-2017-126928</td>\n",
       "      <td>17/09/2017</td>\n",
       "      <td>23/09/2017</td>\n",
       "      <td>Standard Class</td>\n",
       "      <td>GZ-14470</td>\n",
       "      <td>Gary Zandusky</td>\n",
       "      <td>Consumer</td>\n",
       "      <td>United States</td>\n",
       "      <td>Morristown</td>\n",
       "      <td>...</td>\n",
       "      <td>East</td>\n",
       "      <td>OFF-ST-10000615</td>\n",
       "      <td>Office Supplies</td>\n",
       "      <td>Storage</td>\n",
       "      <td>SimpliFile Personal File Black Granite 15w x 6...</td>\n",
       "      <td>34.0500</td>\n",
       "      <td>3</td>\n",
       "      <td>0.00</td>\n",
       "      <td>9.5340</td>\n",
       "      <td>6</td>\n",
       "    </tr>\n",
       "  </tbody>\n",
       "</table>\n",
       "<p>1656 rows × 22 columns</p>\n",
       "</div>"
      ],
      "text/plain": [
       "      Row ID        Order ID  Order Date   Ship Date       Ship Mode  \\\n",
       "3          4  US-2015-108966  11/10/2015  18/10/2015  Standard Class   \n",
       "4          5  US-2015-108966  11/10/2015  18/10/2015  Standard Class   \n",
       "16        17  CA-2014-105893  11/11/2014  18/11/2014  Standard Class   \n",
       "53        54  CA-2016-105816  11/12/2016  17/12/2016  Standard Class   \n",
       "54        55  CA-2016-105816  11/12/2016  17/12/2016  Standard Class   \n",
       "...      ...             ...         ...         ...             ...   \n",
       "8865    8866  CA-2015-158148  20/12/2015  26/12/2015  Standard Class   \n",
       "8875    8876  US-2016-141264  13/08/2016  19/08/2016  Standard Class   \n",
       "8876    8877  US-2016-141264  13/08/2016  19/08/2016  Standard Class   \n",
       "8877    8878  CA-2017-126928  17/09/2017  23/09/2017  Standard Class   \n",
       "8878    8879  CA-2017-126928  17/09/2017  23/09/2017  Standard Class   \n",
       "\n",
       "     Customer ID   Customer Name    Segment        Country             City  \\\n",
       "3       SO-20335   Sean ODonnell   Consumer  United States  Fort Lauderdale   \n",
       "4       SO-20335   Sean ODonnell   Consumer  United States  Fort Lauderdale   \n",
       "16      PK-19075       Pete Kriz   Consumer  United States          Madison   \n",
       "53      JM-15265  Janet Molinari  Corporate  United States    New York City   \n",
       "54      JM-15265  Janet Molinari  Corporate  United States    New York City   \n",
       "...          ...             ...        ...            ...              ...   \n",
       "8865    JM-15865     John Murray   Consumer  United States        Arlington   \n",
       "8875    CT-11995    Carol Triggs   Consumer  United States           Irving   \n",
       "8876    CT-11995    Carol Triggs   Consumer  United States           Irving   \n",
       "8877    GZ-14470   Gary Zandusky   Consumer  United States       Morristown   \n",
       "8878    GZ-14470   Gary Zandusky   Consumer  United States       Morristown   \n",
       "\n",
       "      ...   Region       Product ID         Category Sub-Category  \\\n",
       "3     ...    South  FUR-TA-10000577        Furniture       Tables   \n",
       "4     ...    South  OFF-ST-10000760  Office Supplies      Storage   \n",
       "16    ...  Central  OFF-ST-10004186  Office Supplies      Storage   \n",
       "53    ...     East  OFF-FA-10000304  Office Supplies    Fasteners   \n",
       "54    ...     East  TEC-PH-10002447       Technology       Phones   \n",
       "...   ...      ...              ...              ...          ...   \n",
       "8865  ...    South  OFF-AP-10003281  Office Supplies   Appliances   \n",
       "8875  ...  Central  OFF-SU-10003505  Office Supplies     Supplies   \n",
       "8876  ...  Central  OFF-AP-10002534  Office Supplies   Appliances   \n",
       "8877  ...     East  TEC-MA-10004626       Technology     Machines   \n",
       "8878  ...     East  OFF-ST-10000615  Office Supplies      Storage   \n",
       "\n",
       "                                           Product Name      Sales Quantity  \\\n",
       "3         Bretford CR4500 Series Slim Rectangular Table   957.5775        5   \n",
       "4                         Eldon Fold N Roll Cart System    22.3680        2   \n",
       "16    Stur-D-Stor Shelving Vertical 5-Shelf: 72H x 3...   665.8800        6   \n",
       "53                                   Advantus Push Pins    15.2600        7   \n",
       "54                     AT&T CL83451 4-Handset Telephone  1029.9500        5   \n",
       "...                                                 ...        ...      ...   \n",
       "8865   Acco 6 Outlet Guardian Standard Surge Suppressor    36.2700        3   \n",
       "8875                     Premier Electric Letter Opener   185.3760        2   \n",
       "8876  3.6 Cubic Foot Counter Height Office Refrigerator    58.9240        1   \n",
       "8877  Lexmark 20R1285 X6650 Wireless All-in-One Printer   480.0000        4   \n",
       "8878  SimpliFile Personal File Black Granite 15w x 6...    34.0500        3   \n",
       "\n",
       "      Discount    Profit  Pre_Shipping  \n",
       "3         0.45 -383.0310             7  \n",
       "4         0.20    2.5164             7  \n",
       "16        0.00   13.3176             7  \n",
       "53        0.00    6.2566             6  \n",
       "54        0.00  298.6855             6  \n",
       "...        ...       ...           ...  \n",
       "8865      0.00   10.8810             6  \n",
       "8875      0.20  -34.7580             6  \n",
       "8876      0.80 -153.2024             6  \n",
       "8877      0.00  225.6000             6  \n",
       "8878      0.00    9.5340             6  \n",
       "\n",
       "[1656 rows x 22 columns]"
      ]
     },
     "execution_count": 13,
     "metadata": {},
     "output_type": "execute_result"
    }
   ],
   "source": [
    "df_order = pd.DataFrame(data_order.copy())\n",
    "df_order['Pre_Shipping'] = (pd.to_datetime(df_order['Ship Date'], dayfirst=True)- pd.to_datetime(df_order['Order Date'], dayfirst=True) ).dt.days\n",
    "df_order.query('Pre_Shipping > 5')\n",
    "# df_order.query('\"Order Date\" - \"Ship Date\" > 5 ')"
   ]
  },
  {
   "attachments": {},
   "cell_type": "markdown",
   "metadata": {},
   "source": [
    "<pre>       5. Shipping method distribution on each state </pre>"
   ]
  },
  {
   "cell_type": "code",
   "execution_count": 14,
   "metadata": {},
   "outputs": [
    {
     "data": {
      "text/plain": [
       "State      Ship Mode     \n",
       "Alabama    First Class        4\n",
       "           Same Day           1\n",
       "           Second Class       8\n",
       "           Standard Class    18\n",
       "Arizona    First Class       16\n",
       "                             ..\n",
       "Wisconsin  First Class        9\n",
       "           Same Day           2\n",
       "           Second Class       5\n",
       "           Standard Class    27\n",
       "Wyoming    Standard Class     1\n",
       "Name: Order ID, Length: 173, dtype: int64"
      ]
     },
     "execution_count": 14,
     "metadata": {},
     "output_type": "execute_result"
    }
   ],
   "source": [
    "df_order = pd.DataFrame(data_order.copy())\n",
    "df_order.groupby(['State', 'Ship Mode'])['Order ID'].nunique()"
   ]
  },
  {
   "attachments": {},
   "cell_type": "markdown",
   "metadata": {},
   "source": [
    "## 3. Matplotlib"
   ]
  },
  {
   "attachments": {},
   "cell_type": "markdown",
   "metadata": {},
   "source": [
    "From superstore dataset, plot visualization to answer following question using appropriate visual element."
   ]
  },
  {
   "attachments": {},
   "cell_type": "markdown",
   "metadata": {},
   "source": [
    "1. Number of customer who has returned product atleast once and those who never returned\n",
    "products."
   ]
  },
  {
   "cell_type": "code",
   "execution_count": 10,
   "metadata": {},
   "outputs": [
    {
     "data": {
      "image/png": "[encoded data removed]",
      "text/plain": [
       "<Figure size 640x480 with 1 Axes>"
      ]
     },
     "metadata": {},
     "output_type": "display_data"
    }
   ],
   "source": [
    "import matplotlib.pyplot as plt\n",
    "\n",
    "df_order = pd.DataFrame(data_order.copy())\n",
    "df_return = pd.DataFrame(data_return.copy())\n",
    "count_return = df_order.apply(lambda row: row[df_order['Order ID'].isin( df_return['Order ID'] )])['Customer Name'].nunique()\n",
    "count_all = df_order['Customer Name'].nunique() - count_return\n",
    "\n",
    "plt.pie([count_return, count_all], labels = ['returned', 'not return'])\n",
    "plt.legend(title = \"Customer\")\n",
    "plt.show() \n"
   ]
  },
  {
   "attachments": {},
   "cell_type": "markdown",
   "metadata": {},
   "source": [
    "2. Weekly sales of each product category."
   ]
  },
  {
   "cell_type": "code",
   "execution_count": 37,
   "metadata": {},
   "outputs": [
    {
     "data": {
      "text/plain": [
       "<AxesSubplot: ylabel='Frequency'>"
      ]
     },
     "execution_count": 37,
     "metadata": {},
     "output_type": "execute_result"
    },
    {
     "data": {
      "image/png": "[encoded data removed]",
      "text/plain": [
       "<Figure size 800x600 with 1 Axes>"
      ]
     },
     "metadata": {},
     "output_type": "display_data"
    }
   ],
   "source": [
    "import pandas as pd\n",
    "\n",
    "df_order = pd.DataFrame(data_order.copy())\n",
    "df_week_order = df_order\n",
    "df_week_order['Order Date'] = pd.to_datetime(df_week_order['Order Date'], dayfirst=True) - pd.to_timedelta(7, unit='d')\n",
    "df_category = df_week_order.groupby([pd.Grouper(key='Order Date', freq='w'), 'Category'])['Sales'].sum().reset_index()\n",
    "df_category.columns = ['Order Date', 'Category', 'Sales']\n",
    "df_category = df_category.pivot(columns='Category', index='Order Date', values='Sales')\n",
    "df_category.plot.hist(bins=100, figsize=(8,6), alpha=0.7)\n"
   ]
  },
  {
   "attachments": {},
   "cell_type": "markdown",
   "metadata": {},
   "source": [
    "3. Distribution of how many times a customer purchased product from this store."
   ]
  },
  {
   "cell_type": "code",
   "execution_count": 54,
   "metadata": {},
   "outputs": [
    {
     "data": {
      "text/plain": [
       "<AxesSubplot: >"
      ]
     },
     "execution_count": 54,
     "metadata": {},
     "output_type": "execute_result"
    },
    {
     "data": {
      "image/png": "[encoded data removed]",
      "text/plain": [
       "<Figure size 640x480 with 1 Axes>"
      ]
     },
     "metadata": {},
     "output_type": "display_data"
    }
   ],
   "source": [
    "df_order = pd.DataFrame(data_order.copy())\n",
    "df_count_cust = df_order['Customer ID'].value_counts().reindex()\n",
    "df_count_cust\n",
    "df_count_cust.plot.barh(fontsize=1, rot=0)\n"
   ]
  },
  {
   "attachments": {},
   "cell_type": "markdown",
   "metadata": {},
   "source": [
    "4. Comparative statistical distribution of profit per sale unit between each sub-category in\n",
    "furniture category."
   ]
  },
  {
   "cell_type": "code",
   "execution_count": 79,
   "metadata": {},
   "outputs": [
    {
     "data": {
      "text/plain": [
       "<AxesSubplot: ylabel='Sub-Category'>"
      ]
     },
     "execution_count": 79,
     "metadata": {},
     "output_type": "execute_result"
    },
    {
     "data": {
      "image/png": "[encoded data removed]",
      "text/plain": [
       "<Figure size 640x480 with 1 Axes>"
      ]
     },
     "metadata": {},
     "output_type": "display_data"
    }
   ],
   "source": [
    "df_order = pd.DataFrame(data_order.copy())\n",
    "sale_to_pro = df_order[ df_order['Category'] == \"Furniture\" ].groupby(['Sub-Category'])[['Sales','Profit']].sum()\n",
    "sale_to_pro['Sales/Profit'] = sale_to_pro['Sales'] / sale_to_pro['Profit']\n",
    "sale_to_pro['Sales/Profit'].plot.barh(fontsize=12)\n"
   ]
  }
 ],
 "metadata": {
  "kernelspec": {
   "display_name": "venv",
   "language": "python",
   "name": "python3"
  },
  "language_info": {
   "codemirror_mode": {
    "name": "ipython",
    "version": 3
   },
   "file_extension": ".py",
   "mimetype": "text/x-python",
   "name": "python",
   "nbconvert_exporter": "python",
   "pygments_lexer": "ipython3",
   "version": "3.10.0"
  },
  "orig_nbformat": 4,
  "vscode": {
   "interpreter": {
    "hash": "0db5b4cd011dbae1db8763e4603f4db1cd33ce58302b9bbe32299201f3df5f15"
   }
  }
 },
 "nbformat": 4,
 "nbformat_minor": 2
}
