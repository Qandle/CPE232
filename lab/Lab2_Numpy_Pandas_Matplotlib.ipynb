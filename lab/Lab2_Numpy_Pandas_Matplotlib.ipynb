{
 "cells": [
  {
   "attachments": {},
   "cell_type": "markdown",
   "metadata": {},
   "source": [
    "# Lab 2: Numpy, Pandas and Matplotlib"
   ]
  },
  {
   "attachments": {},
   "cell_type": "markdown",
   "metadata": {},
   "source": [
    "## 1. Numpy"
   ]
  },
  {
   "attachments": {},
   "cell_type": "markdown",
   "metadata": {},
   "source": [
    "1. What are the differences between Numpy's array and Python's list?"
   ]
  },
  {
   "attachments": {},
   "cell_type": "markdown",
   "metadata": {},
   "source": [
    "> <br />\n",
    "> 1. \n",
    ">    - Numpy can create array faster (than python create list) with efficient and manipulating numerical data inside them. <br /><br />\n",
    "> 2. <br />\n",
    ">    - Python's list can contain different data types in same list `called heterogeneous`. <br />\n",
    ">    - Numpy's array elements must have the same data type `called homogeneous`. <br /><br />\n",
    "> 3. \n",
    ">    - Numpy's array use less memory (than python's list) to store data and it provides a mechanism of specifying the data types. <br /><br />\n",
    "> 4. \n",
    ">    - Numpy arrays have a `fixed size` at creation, unlike Python lists (can grow dynamically), so changing the size will create a new array and delete the original. <br /><br />"
   ]
  },
  {
   "attachments": {},
   "cell_type": "markdown",
   "metadata": {},
   "source": [
    "2. What are the advantages of using Numpy over Python's list for numerical computing?"
   ]
  },
  {
   "attachments": {},
   "cell_type": "markdown",
   "metadata": {},
   "source": [
    "> <br />\n",
    "> Numpy support some specific scientific features <br /><br />\n",
    ">   - linear algebra <br />\n",
    ">   - vectorized operations <br /><br />\n",
    "> which python cannot support these features. <br />\n",
    "> <br />"
   ]
  },
  {
   "attachments": {},
   "cell_type": "markdown",
   "metadata": {},
   "source": [
    "3. Give 4 example on how Numpy's ndarray can be created."
   ]
  },
  {
   "cell_type": "code",
   "execution_count": 2,
   "metadata": {},
   "outputs": [
    {
     "name": "stdout",
     "output_type": "stream",
     "text": [
      "<class 'numpy.ndarray'>\n"
     ]
    },
    {
     "data": {
      "text/plain": [
       "array(['x', 'y', 'z'], dtype='<U1')"
      ]
     },
     "execution_count": 2,
     "metadata": {},
     "output_type": "execute_result"
    }
   ],
   "source": [
    "import numpy as np\n",
    "\n",
    "# Convert from Python's list\n",
    "arr1 = np.array(['x', 'y', 'z'])\n",
    "print(type(arr1))\n",
    "arr1"
   ]
  },
  {
   "cell_type": "code",
   "execution_count": 3,
   "metadata": {},
   "outputs": [
    {
     "name": "stdout",
     "output_type": "stream",
     "text": [
      "<class 'numpy.ndarray'>\n"
     ]
    },
    {
     "data": {
      "text/plain": [
       "array([[0., 0., 0.],\n",
       "       [0., 0., 0.],\n",
       "       [0., 0., 0.],\n",
       "       [0., 0., 0.]])"
      ]
     },
     "execution_count": 3,
     "metadata": {},
     "output_type": "execute_result"
    }
   ],
   "source": [
    "# generate by np.zeros() : all element has zero as initial value\n",
    "arr2 = np.zeros((4, 3))\n",
    "print(type(arr2))\n",
    "arr2"
   ]
  },
  {
   "cell_type": "code",
   "execution_count": 4,
   "metadata": {},
   "outputs": [
    {
     "name": "stdout",
     "output_type": "stream",
     "text": [
      "<class 'numpy.ndarray'>\n"
     ]
    },
    {
     "data": {
      "text/plain": [
       "array([[1., 0., 0.],\n",
       "       [0., 1., 0.],\n",
       "       [0., 0., 1.]])"
      ]
     },
     "execution_count": 4,
     "metadata": {},
     "output_type": "execute_result"
    }
   ],
   "source": [
    "# generate by np.eye() : identity matrix\n",
    "arr3 = np.eye(3)\n",
    "print(type(arr3))\n",
    "arr3"
   ]
  },
  {
   "cell_type": "code",
   "execution_count": 5,
   "metadata": {},
   "outputs": [
    {
     "name": "stdout",
     "output_type": "stream",
     "text": [
      "<class 'numpy.ndarray'>\n"
     ]
    },
    {
     "data": {
      "text/plain": [
       "array([1., 3., 5., 7., 9.])"
      ]
     },
     "execution_count": 5,
     "metadata": {},
     "output_type": "execute_result"
    }
   ],
   "source": [
    "# generate by np.linspace(start, stop, step)\n",
    "arr4 = np.linspace(1, 9, 5)\n",
    "print(type(arr4))\n",
    "arr4"
   ]
  },
  {
   "attachments": {},
   "cell_type": "markdown",
   "metadata": {},
   "source": [
    "4. Give an example of Numpy's functions that change the shape of ndarray? Also provide\n",
    "short description of each function."
   ]
  },
  {
   "cell_type": "code",
   "execution_count": 34,
   "metadata": {},
   "outputs": [
    {
     "name": "stdout",
     "output_type": "stream",
     "text": [
      "[0 1 2 3]\n",
      "arr_bf shape :  (4,) \n",
      "\n",
      "[[0 1]\n",
      " [2 3]]\n",
      "arr_reshape_c shape :  (2, 2) \n",
      "\n",
      "[[0 2]\n",
      " [1 3]]\n",
      "arr_reshape_f shape :  (2, 2) \n",
      "\n",
      "[[0]\n",
      " [1]\n",
      " [2]\n",
      " [3]]\n",
      "arr_t shape :  (4, 1)\n"
     ]
    }
   ],
   "source": [
    "# initial array\n",
    "arr_bf = np.arange(4)\n",
    "print(arr_bf)\n",
    "print(\"arr_bf shape : \", arr_bf.shape, \"\\n\")\n",
    "\n",
    "# use reshape(row, col) : C-like index ordering\n",
    "arr_reshape_c = np.reshape(arr_bf, (2, 2))\n",
    "print(arr_reshape_c)\n",
    "print(\"arr_reshape_c shape : \", arr_reshape_c.shape, \"\\n\")\n",
    "\n",
    "# use reshape(row, col) : Fortran-like index ordering\n",
    "arr_reshape_f = np.reshape(arr_bf, (2, 2), order='F')\n",
    "print(arr_reshape_f) \n",
    "print(\"arr_reshape_f shape : \", arr_reshape_f.shape, \"\\n\")\n",
    "\n",
    "# use transpose : row ↔ column (with 2D-array)\n",
    "arr_t = np.transpose([arr_bf])\n",
    "print(arr_t) \n",
    "print(\"arr_t shape : \", arr_t.shape)\n"
   ]
  },
  {
   "attachments": {},
   "cell_type": "markdown",
   "metadata": {},
   "source": [
    "## 2. Pandas"
   ]
  },
  {
   "cell_type": "code",
   "execution_count": 36,
   "metadata": {},
   "outputs": [],
   "source": [
    "import pandas as pd"
   ]
  },
  {
   "attachments": {},
   "cell_type": "markdown",
   "metadata": {},
   "source": [
    "1. What are two main data structure of Pandas? How are they differs and when should each be\n",
    "used?"
   ]
  },
  {
   "attachments": {},
   "cell_type": "markdown",
   "metadata": {},
   "source": [
    "> <br />\n",
    "> 1. Series <br />\n",
    ">   - one-dimensional labeled array, can holding any data type <br />\n",
    ">   - data inside can bring from `ndarray`, `scalar value`, or `dictionary` <br />\n",
    ">   - should use when having 1D array <br /><br />\n",
    "> 2. Dataframe <br />\n",
    ">   - two-dimensional labeled structure <br />\n",
    ">   - data inside can bring from `1D : ndarrays, lists, dicts, Series`, `2D numpy's array`, or `another Dataframe` <br />\n",
    ">   - should use for managing `spreadsheet`, `SQL table`, or any 2D table <br />\n",
    "> <br />"
   ]
  },
  {
   "attachments": {},
   "cell_type": "markdown",
   "metadata": {},
   "source": [
    "2. Give an example on how Pandas DataFrame can be created."
   ]
  },
  {
   "cell_type": "code",
   "execution_count": 44,
   "metadata": {},
   "outputs": [
    {
     "name": "stdout",
     "output_type": "stream",
     "text": [
      "* Empty Dataframe\n",
      "Empty DataFrame\n",
      "Columns: []\n",
      "Index: [] \n",
      "\n",
      "* Dataframe from Dictionary of ndarrays\n",
      "   a    b\n",
      "0  0  0.0\n",
      "1  1  0.0\n",
      "2  2  0.0\n",
      "3  3  0.0\n"
     ]
    }
   ],
   "source": [
    "# data : empty\n",
    "df1 = pd.DataFrame()\n",
    "print(\"* Empty Dataframe\")\n",
    "print(df1, \"\\n\")\n",
    "\n",
    "# data : dictionary of ndarrays\n",
    "df2 = pd.DataFrame({\n",
    "    'a' : np.arange(4),\n",
    "    'b' : np.zeros(4)\n",
    "})\n",
    "print(\"* Dataframe from Dictionary of ndarrays\")\n",
    "print(df2)"
   ]
  },
  {
   "attachments": {},
   "cell_type": "markdown",
   "metadata": {},
   "source": [
    "3. What is the difference between df.loc and df.iloc in data selection?"
   ]
  },
  {
   "attachments": {},
   "cell_type": "markdown",
   "metadata": {},
   "source": [
    "> - df.loc : choose rows & columns by specific `label`\n",
    "> - df.iloc : choose rowa & columns at specific `index position`"
   ]
  },
  {
   "attachments": {},
   "cell_type": "markdown",
   "metadata": {},
   "source": [
    "4. Why is it necessary to explore the cause of missing data? Can't we just drop it?"
   ]
  },
  {
   "cell_type": "markdown",
   "metadata": {},
   "source": []
  },
  {
   "attachments": {},
   "cell_type": "markdown",
   "metadata": {},
   "source": [
    "5. What is the difference between df.apply and df.transform ?"
   ]
  },
  {
   "cell_type": "markdown",
   "metadata": {},
   "source": []
  },
  {
   "attachments": {},
   "cell_type": "markdown",
   "metadata": {},
   "source": [
    "6. Give an example of Pandas functions that transform the shape of dataframe."
   ]
  },
  {
   "cell_type": "code",
   "execution_count": null,
   "metadata": {},
   "outputs": [],
   "source": []
  },
  {
   "attachments": {},
   "cell_type": "markdown",
   "metadata": {},
   "source": [
    "7. From superstore dataset, prepare the dataset to answer following question. Provide explanation on each step as well."
   ]
  },
  {
   "cell_type": "code",
   "execution_count": 47,
   "metadata": {},
   "outputs": [],
   "source": [
    "data_order = pd.read_csv(r'../public/data/superstore_order.csv')\n",
    "data_people = pd.read_csv(r'../public/data/superstore_people.csv')\n",
    "data_return = pd.read_csv(r'../public/data/superstore_return.csv')"
   ]
  },
  {
   "attachments": {},
   "cell_type": "markdown",
   "metadata": {},
   "source": [
    "<pre>       1. Observe the weekly sales of each product </pre>"
   ]
  },
  {
   "cell_type": "code",
   "execution_count": 61,
   "metadata": {},
   "outputs": [
    {
     "name": "stdout",
     "output_type": "stream",
     "text": [
      "Order Date  Product ID     \n",
      "2013-11-03  FUR-CH-10000863    1\n",
      "            FUR-CH-10001270    1\n",
      "            FUR-CH-10004063    1\n",
      "            FUR-FU-10001095    1\n",
      "            FUR-TA-10001866    1\n",
      "                              ..\n",
      "2017-10-29  TEC-PH-10000347    1\n",
      "            TEC-PH-10000576    1\n",
      "            TEC-PH-10002563    1\n",
      "            TEC-PH-10002890    1\n",
      "            TEC-PH-10004774    1\n",
      "Name: Product ID, Length: 8760, dtype: int64\n",
      "\n"
     ]
    }
   ],
   "source": [
    "df_order = pd.DataFrame(data_order)\n",
    "df_week_order = pd.DataFrame(data_order)\n",
    "df_week_order['Order Date'] = pd.to_datetime(df_week_order['Order Date']) - pd.to_timedelta(7, unit='d')\n",
    "print(df_week_order.groupby([pd.Grouper(key='Order Date', freq='W')])['Product ID'].value_counts())\n",
    "print()\n",
    "# print(df_order[ ['Order Date', 'Product ID']].value_counts())"
   ]
  },
  {
   "attachments": {},
   "cell_type": "markdown",
   "metadata": {},
   "source": [
    "<pre>       2. Find out which customers have returned products at least once </pre>"
   ]
  },
  {
   "cell_type": "code",
   "execution_count": null,
   "metadata": {},
   "outputs": [],
   "source": []
  },
  {
   "attachments": {},
   "cell_type": "markdown",
   "metadata": {},
   "source": [
    "<pre>       3. Sales to profit ratio of each subcategory </pre>"
   ]
  },
  {
   "cell_type": "code",
   "execution_count": null,
   "metadata": {},
   "outputs": [],
   "source": []
  },
  {
   "attachments": {},
   "cell_type": "markdown",
   "metadata": {},
   "source": [
    "<pre>       4. Orders that takes more than 5 days to prepare for shipping </pre>"
   ]
  },
  {
   "cell_type": "code",
   "execution_count": null,
   "metadata": {},
   "outputs": [],
   "source": []
  },
  {
   "attachments": {},
   "cell_type": "markdown",
   "metadata": {},
   "source": [
    "<pre>       5. Shipping method distribution on each state </pre>"
   ]
  },
  {
   "cell_type": "code",
   "execution_count": null,
   "metadata": {},
   "outputs": [],
   "source": []
  },
  {
   "attachments": {},
   "cell_type": "markdown",
   "metadata": {},
   "source": [
    "## 3. Matplotlib"
   ]
  },
  {
   "attachments": {},
   "cell_type": "markdown",
   "metadata": {},
   "source": [
    "From superstore dataset, plot visualization to answer following question using appropriate visual element."
   ]
  },
  {
   "attachments": {},
   "cell_type": "markdown",
   "metadata": {},
   "source": [
    "1. Number of customer who has returned product atleast once and those who never returned\n",
    "products."
   ]
  },
  {
   "cell_type": "code",
   "execution_count": null,
   "metadata": {},
   "outputs": [],
   "source": []
  },
  {
   "attachments": {},
   "cell_type": "markdown",
   "metadata": {},
   "source": [
    "2. Weekly sales of each product category."
   ]
  },
  {
   "cell_type": "code",
   "execution_count": null,
   "metadata": {},
   "outputs": [],
   "source": []
  },
  {
   "attachments": {},
   "cell_type": "markdown",
   "metadata": {},
   "source": [
    "3. Distribution of how many times a customer purchased product from this store."
   ]
  },
  {
   "cell_type": "code",
   "execution_count": null,
   "metadata": {},
   "outputs": [],
   "source": []
  },
  {
   "attachments": {},
   "cell_type": "markdown",
   "metadata": {},
   "source": [
    "4. Comparative statistical distribution of profit per sale unit between each sub-category in\n",
    "furniture category."
   ]
  },
  {
   "cell_type": "code",
   "execution_count": null,
   "metadata": {},
   "outputs": [],
   "source": []
  }
 ],
 "metadata": {
  "kernelspec": {
   "display_name": "venv",
   "language": "python",
   "name": "python3"
  },
  "language_info": {
   "codemirror_mode": {
    "name": "ipython",
    "version": 3
   },
   "file_extension": ".py",
   "mimetype": "text/x-python",
   "name": "python",
   "nbconvert_exporter": "python",
   "pygments_lexer": "ipython3",
   "version": "3.11.1"
  },
  "orig_nbformat": 4,
  "vscode": {
   "interpreter": {
    "hash": "1403843c49786c356fa9e48af0a36f12648f69d93dbcdf51fd8afe1259a4b3ee"
   }
  }
 },
 "nbformat": 4,
 "nbformat_minor": 2
}
